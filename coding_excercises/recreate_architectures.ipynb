{
  "nbformat": 4,
  "nbformat_minor": 0,
  "metadata": {
    "colab": {
      "name": "Untitled4.ipynb",
      "version": "0.3.2",
      "provenance": []
    },
    "kernelspec": {
      "name": "python3",
      "display_name": "Python 3"
    }
  },
  "cells": [
    {
      "cell_type": "markdown",
      "metadata": {
        "id": "KARu3NBgopVI",
        "colab_type": "text"
      },
      "source": [
        "# Recreate CNN architectures with fast.ai\n",
        "\n",
        "In this excercise, we will recreate popular CNN architectures with the fast.ai libary.\n",
        "\n",
        "For the beginning you should start with a more simple Network, the VGG-16. Please refer to this [Paper](https://arxiv.org/pdf/1409.1556.pdf) from Simonyan and Zisserman.\n",
        "\n"
      ]
    },
    {
      "cell_type": "code",
      "metadata": {
        "id": "_FaqZZXfrpzZ",
        "colab_type": "code",
        "colab": {
          "base_uri": "https://localhost:8080/",
          "height": 51
        },
        "outputId": "9e5de05c-4718-4c7e-bafe-197d074a763a"
      },
      "source": [
        "  !curl -s https://course.fast.ai/setup/colab | bash"
      ],
      "execution_count": 12,
      "outputs": [
        {
          "output_type": "stream",
          "text": [
            "Updating fastai...\n",
            "Done.\n"
          ],
          "name": "stdout"
        }
      ]
    },
    {
      "cell_type": "code",
      "metadata": {
        "id": "duQm-wGNreLJ",
        "colab_type": "code",
        "colab": {}
      },
      "source": [
        "%reload_ext autoreload\n",
        "%autoreload 2\n",
        "%matplotlib inline"
      ],
      "execution_count": 0,
      "outputs": []
    },
    {
      "cell_type": "code",
      "metadata": {
        "id": "KRvN16f2rjVH",
        "colab_type": "code",
        "colab": {}
      },
      "source": [
        "from fastai.vision import *"
      ],
      "execution_count": 0,
      "outputs": []
    },
    {
      "cell_type": "markdown",
      "metadata": {
        "id": "7Bf6BIH-oqXA",
        "colab_type": "text"
      },
      "source": [
        "\n",
        "\n",
        "We start with an example for a simple two layer Network:\n"
      ]
    },
    {
      "cell_type": "code",
      "metadata": {
        "id": "qW1_V2B4nz75",
        "colab_type": "code",
        "colab": {}
      },
      "source": [
        "class TwoLayerNet(nn.Module):\n",
        "    def __init__(self, D_in, H, D_out):\n",
        "        \"\"\"\n",
        "        In the constructor we instantiate two nn.Linear modules and assign them as\n",
        "        member variables.\n",
        "        \"\"\"\n",
        "        super(TwoLayerNet, self).__init__()\n",
        "        self.linear1 = nn.Linear(D_in, H)\n",
        "        self.linear2 = nn.Linear(H, D_out)\n",
        "\n",
        "    def forward(self, x):\n",
        "        \"\"\"\n",
        "        In the forward function we accept a Tensor of input data and we must return\n",
        "        a Tensor of output data. We can use Modules defined in the constructor as\n",
        "        well as arbitrary operators on Tensors.\n",
        "        \"\"\"\n",
        "        h_relu = F.relu(self.linear1(x))\n",
        "        y_pred = self.linear2(h_relu)\n",
        "        return y_pred\n"
      ],
      "execution_count": 0,
      "outputs": []
    },
    {
      "cell_type": "code",
      "metadata": {
        "id": "WztuSwf2sQ9v",
        "colab_type": "code",
        "colab": {}
      },
      "source": [
        "model_1 = TwoLayerNet(1000, 100, 10)"
      ],
      "execution_count": 0,
      "outputs": []
    },
    {
      "cell_type": "markdown",
      "metadata": {
        "id": "9CBlF1YRr6I4",
        "colab_type": "text"
      },
      "source": [
        "The next example is a simple CNN model. Note, that we give as input a list with variable layer number.\n"
      ]
    },
    {
      "cell_type": "code",
      "metadata": {
        "id": "4WfyhQ3boqBh",
        "colab_type": "code",
        "colab": {}
      },
      "source": [
        "class SimpleNet(nn.Module):\n",
        "    def __init__(self, layers):\n",
        "        super().__init__()\n",
        "        self.layers = nn.ModuleList([\n",
        "            nn.Linear(layers[i], layers[i + 1]) for i in range(len(layers) - 1)])\n",
        "        \n",
        "    def forward(self, x):\n",
        "        x = x.view(x.size(0), -1)\n",
        "        for l in self.layers:\n",
        "            l_x = l(x)\n",
        "            x = F.relu(l_x)\n",
        "        return l_x"
      ],
      "execution_count": 0,
      "outputs": []
    },
    {
      "cell_type": "code",
      "metadata": {
        "id": "DDGpSQVy3bzJ",
        "colab_type": "code",
        "colab": {}
      },
      "source": [
        "model_2 = SimpleNet([32*32*3, 40, 10])\n",
        "model_3 = SimpleNet([32*32*3, 20, 4010])"
      ],
      "execution_count": 0,
      "outputs": []
    },
    {
      "cell_type": "markdown",
      "metadata": {
        "id": "iRtwkZ8uoomN",
        "colab_type": "text"
      },
      "source": [
        "There is also a more convenient way to define your model with nn.Sequential() instead of creating a new class. However, you are not able to customize the forward method or chossing a flexible number of layers using this function."
      ]
    },
    {
      "cell_type": "code",
      "metadata": {
        "id": "YS-Oh3mpHM8J",
        "colab_type": "code",
        "colab": {}
      },
      "source": [
        "def conv(ni,nf): return nn.Conv2d(ni, nf, kernel_size=3, stride=2, padding=1) #define function to have fix hyper-paramters for our filters\n"
      ],
      "execution_count": 0,
      "outputs": []
    },
    {
      "cell_type": "code",
      "metadata": {
        "id": "QLutm1_RH4Cz",
        "colab_type": "code",
        "colab": {}
      },
      "source": [
        "model_4 = nn.Sequential(\n",
        "    conv(1, 8),\n",
        "    nn.BatchNorm2d(8),\n",
        "    nn.ReLU(),\n",
        "    conv(8, 16),\n",
        "    nn.BatchNorm2d(16),\n",
        "    nn.ReLU(),\n",
        "    conv(16, 32),\n",
        "    nn.BatchNorm2d(32),\n",
        "    nn.ReLU(),\n",
        "    conv(32, 16),\n",
        "    nn.BatchNorm2d(16),\n",
        "    nn.ReLU(),\n",
        "    conv(16, 10),\n",
        "    nn.BatchNorm2d(10),\n",
        "    Flatten()    \n",
        ")"
      ],
      "execution_count": 0,
      "outputs": []
    },
    {
      "cell_type": "markdown",
      "metadata": {
        "id": "YpHUItRFolb4",
        "colab_type": "text"
      },
      "source": [
        "# Now your turn!\n",
        "\n",
        "Recreate the VGG-16 Network.\n",
        "This diagram of the architecture should help you:\n",
        "![VGG-16 architecture](https://miro.medium.com/max/605/1*E7zhhan7Sp7hats4jkKdeA.png)\n",
        "\n",
        "![alt text](https://qph.fs.quoracdn.net/main-qimg-83c7dee9e8b039c3ca27c8dd91cacbb4)"
      ]
    },
    {
      "cell_type": "markdown",
      "metadata": {
        "id": "A6GASgTbJXdP",
        "colab_type": "text"
      },
      "source": [
        "As training data you can try the MNIST"
      ]
    },
    {
      "cell_type": "code",
      "metadata": {
        "id": "oyjL6ALjJQqI",
        "colab_type": "code",
        "colab": {}
      },
      "source": [
        "path = untar_data(URLs.MNIST)\n"
      ],
      "execution_count": 0,
      "outputs": []
    },
    {
      "cell_type": "code",
      "metadata": {
        "id": "kgemAkF-JmJi",
        "colab_type": "code",
        "colab": {
          "base_uri": "https://localhost:8080/",
          "height": 51
        },
        "outputId": "5702899f-2489-41e8-85d5-11dc9f0a328b"
      },
      "source": [
        "path.ls()\n"
      ],
      "execution_count": 22,
      "outputs": [
        {
          "output_type": "execute_result",
          "data": {
            "text/plain": [
              "[PosixPath('/root/.fastai/data/mnist_png/testing'),\n",
              " PosixPath('/root/.fastai/data/mnist_png/training')]"
            ]
          },
          "metadata": {
            "tags": []
          },
          "execution_count": 22
        }
      ]
    },
    {
      "cell_type": "code",
      "metadata": {
        "id": "9beSXXpVJou4",
        "colab_type": "code",
        "colab": {}
      },
      "source": [
        "il = ImageList.from_folder(path, convert_mode='L') #get labels from folder names"
      ],
      "execution_count": 0,
      "outputs": []
    },
    {
      "cell_type": "code",
      "metadata": {
        "id": "9qeYzwCeJqxh",
        "colab_type": "code",
        "colab": {
          "base_uri": "https://localhost:8080/",
          "height": 34
        },
        "outputId": "2e636f09-7a11-4126-bf02-1a2d683ff5c6"
      },
      "source": [
        "il.items[0]\n"
      ],
      "execution_count": 24,
      "outputs": [
        {
          "output_type": "execute_result",
          "data": {
            "text/plain": [
              "PosixPath('/root/.fastai/data/mnist_png/testing/9/9530.png')"
            ]
          },
          "metadata": {
            "tags": []
          },
          "execution_count": 24
        }
      ]
    },
    {
      "cell_type": "code",
      "metadata": {
        "id": "CawXAkAYJsX_",
        "colab_type": "code",
        "colab": {}
      },
      "source": [
        "defaults.cmap='binary'\n"
      ],
      "execution_count": 0,
      "outputs": []
    },
    {
      "cell_type": "code",
      "metadata": {
        "id": "yL83S7hXJtxR",
        "colab_type": "code",
        "colab": {
          "base_uri": "https://localhost:8080/",
          "height": 68
        },
        "outputId": "981ec464-5e1f-4c0c-f8d4-92a72bdf9507"
      },
      "source": [
        "il\n"
      ],
      "execution_count": 26,
      "outputs": [
        {
          "output_type": "execute_result",
          "data": {
            "text/plain": [
              "ImageList (70000 items)\n",
              "Image (1, 28, 28),Image (1, 28, 28),Image (1, 28, 28),Image (1, 28, 28),Image (1, 28, 28)\n",
              "Path: /root/.fastai/data/mnist_png"
            ]
          },
          "metadata": {
            "tags": []
          },
          "execution_count": 26
        }
      ]
    },
    {
      "cell_type": "code",
      "metadata": {
        "id": "MIXgPTT2Jv6n",
        "colab_type": "code",
        "colab": {
          "base_uri": "https://localhost:8080/",
          "height": 212
        },
        "outputId": "16182a95-6d58-4b44-c1d5-351ba44f7167"
      },
      "source": [
        "il[0].show()\n"
      ],
      "execution_count": 27,
      "outputs": [
        {
          "output_type": "display_data",
          "data": {
            "image/png": "[encoded data removed]",
            "text/plain": [
              "<Figure size 216x216 with 1 Axes>"
            ]
          },
          "metadata": {
            "tags": []
          }
        }
      ]
    },
    {
      "cell_type": "code",
      "metadata": {
        "id": "4F9nhQ-FJxtW",
        "colab_type": "code",
        "colab": {}
      },
      "source": [
        "sd = il.split_by_folder(train='training', valid='testing') #split data into training and validation sets\n",
        "ll = sd.label_from_folder()"
      ],
      "execution_count": 0,
      "outputs": []
    },
    {
      "cell_type": "code",
      "metadata": {
        "id": "0Z7NxplnJ91_",
        "colab_type": "code",
        "colab": {}
      },
      "source": [
        "tfms = ([*rand_pad(padding=3, size=28, mode='zeros')], [])\n",
        "ll = ll.transform(tfms)\n"
      ],
      "execution_count": 0,
      "outputs": []
    },
    {
      "cell_type": "code",
      "metadata": {
        "id": "jSv8fkO2KBNH",
        "colab_type": "code",
        "colab": {}
      },
      "source": [
        "bs = 128\n",
        "data = ll.databunch(bs=bs).normalize()\n"
      ],
      "execution_count": 0,
      "outputs": []
    },
    {
      "cell_type": "code",
      "metadata": {
        "id": "LIUeEXdcKNhO",
        "colab_type": "code",
        "colab": {}
      },
      "source": [
        ""
      ],
      "execution_count": 0,
      "outputs": []
    }
  ]
}