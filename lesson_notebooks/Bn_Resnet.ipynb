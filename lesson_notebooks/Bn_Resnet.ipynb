{
  "nbformat": 4,
  "nbformat_minor": 0,
  "metadata": {
    "kernelspec": {
      "name": "python3",
      "display_name": "Python 3"
    },
    "language_info": {
      "codemirror_mode": {
        "name": "ipython",
        "version": 3
      },
      "file_extension": ".py",
      "mimetype": "text/x-python",
      "name": "python",
      "nbconvert_exporter": "python",
      "pygments_lexer": "ipython3",
      "version": "3.7.3"
    },
    "colab": {
      "name": "Bn_Resnet.ipynb",
      "version": "0.3.2",
      "provenance": []
    },
    "accelerator": "GPU"
  },
  "cells": [
    {
      "cell_type": "code",
      "metadata": {
        "id": "LEv2-noqtTlv",
        "colab_type": "code",
        "colab": {
          "base_uri": "https://localhost:8080/",
          "height": 136
        },
        "outputId": "d8fdb397-26e2-41ff-8b3e-005aed247251"
      },
      "source": [
        "#uncomment next line for google colab\n",
        "#!curl -s https://course.fast.ai/setup/colab | bash"
      ],
      "execution_count": 1,
      "outputs": [
        {
          "output_type": "stream",
          "text": [
            "Cloning into 'DKFZ_Deep_Learning_Workshop'...\n",
            "remote: Enumerating objects: 66, done.\u001b[K\n",
            "remote: Counting objects: 100% (66/66), done.\u001b[K\n",
            "remote: Compressing objects: 100% (63/63), done.\u001b[K\n",
            "remote: Total 357 (delta 36), reused 7 (delta 3), pack-reused 291\u001b[K\n",
            "Receiving objects: 100% (357/357), 39.69 MiB | 10.81 MiB/s, done.\n",
            "Resolving deltas: 100% (153/153), done.\n"
          ],
          "name": "stdout"
        }
      ]
    },
    {
      "cell_type": "code",
      "metadata": {
        "id": "XzAy3AoyqSu3",
        "colab_type": "code",
        "colab": {}
      },
      "source": [
        "%matplotlib inline\n",
        "%reload_ext autoreload\n",
        "%autoreload 2"
      ],
      "execution_count": 0,
      "outputs": []
    },
    {
      "cell_type": "code",
      "metadata": {
        "id": "8UPn7togqSu6",
        "colab_type": "code",
        "colab": {}
      },
      "source": [
        "from fastai.vision import *"
      ],
      "execution_count": 0,
      "outputs": []
    },
    {
      "cell_type": "code",
      "metadata": {
        "id": "VBwFP4_juL35",
        "colab_type": "code",
        "colab": {
          "base_uri": "https://localhost:8080/",
          "height": 272
        },
        "outputId": "13b7be12-f7a1-465a-b6bd-8e8473b2cf19"
      },
      "source": [
        "!wget http://pjreddie.com/media/files/cifar.tgz"
      ],
      "execution_count": 7,
      "outputs": [
        {
          "output_type": "stream",
          "text": [
            "--2019-07-19 14:53:25--  http://pjreddie.com/media/files/cifar.tgz\n",
            "Resolving pjreddie.com (pjreddie.com)... 128.208.4.108\n",
            "Connecting to pjreddie.com (pjreddie.com)|128.208.4.108|:80... connected.\n",
            "HTTP request sent, awaiting response... 301 Moved Permanently\n",
            "Location: https://pjreddie.com/media/files/cifar.tgz [following]\n",
            "--2019-07-19 14:53:26--  https://pjreddie.com/media/files/cifar.tgz\n",
            "Connecting to pjreddie.com (pjreddie.com)|128.208.4.108|:443... connected.\n",
            "HTTP request sent, awaiting response... 200 OK\n",
            "Length: 168584360 (161M) [application/octet-stream]\n",
            "Saving to: ‘cifar.tgz’\n",
            "\n",
            "cifar.tgz           100%[===================>] 160.77M  22.9MB/s    in 7.8s    \n",
            "\n",
            "2019-07-19 14:53:34 (20.7 MB/s) - ‘cifar.tgz’ saved [168584360/168584360]\n",
            "\n"
          ],
          "name": "stdout"
        }
      ]
    },
    {
      "cell_type": "code",
      "metadata": {
        "id": "jIJFbFN_uWZJ",
        "colab_type": "code",
        "colab": {}
      },
      "source": [
        "!tar -xzf cifar.tgz"
      ],
      "execution_count": 0,
      "outputs": []
    },
    {
      "cell_type": "code",
      "metadata": {
        "id": "qF5mVk_-uxzy",
        "colab_type": "code",
        "colab": {
          "base_uri": "https://localhost:8080/",
          "height": 34
        },
        "outputId": "55675bf4-d854-486d-b559-8cadf412c5d3"
      },
      "source": [
        ""
      ],
      "execution_count": 9,
      "outputs": [
        {
          "output_type": "stream",
          "text": [
            "\u001b[0m\u001b[01;34mcifar\u001b[0m/  cifar.tgz  \u001b[01;34mDKFZ_Deep_Learning_Workshop\u001b[0m/  \u001b[01;34msample_data\u001b[0m/\n"
          ],
          "name": "stdout"
        }
      ]
    },
    {
      "cell_type": "code",
      "metadata": {
        "id": "zJ87LBuXqSu7",
        "colab_type": "code",
        "colab": {}
      },
      "source": [
        "path = 'cifar/train'\n",
        "#path.ls()\n",
        "#path_anno = path/'annotations'\n",
        "path_img = path\n",
        "fnames = get_image_files(path_img)\n",
        "np.random.seed(2)\n",
        "pat = r'/\\d+_([^/]+).png$'"
      ],
      "execution_count": 0,
      "outputs": []
    },
    {
      "cell_type": "code",
      "metadata": {
        "id": "q3vKBeVHqSu9",
        "colab_type": "code",
        "colab": {
          "base_uri": "https://localhost:8080/",
          "height": 1000
        },
        "outputId": "827c219d-183b-49ba-9f71-a3b55a9d2e03"
      },
      "source": [
        "fnames"
      ],
      "execution_count": 11,
      "outputs": [
        {
          "output_type": "execute_result",
          "data": {
            "text/plain": [
              "[PosixPath('cifar/train/14970_truck.png'),\n",
              " PosixPath('cifar/train/3486_cat.png'),\n",
              " PosixPath('cifar/train/10686_airplane.png'),\n",
              " PosixPath('cifar/train/40965_bird.png'),\n",
              " PosixPath('cifar/train/33925_cat.png'),\n",
              " PosixPath('cifar/train/39931_bird.png'),\n",
              " PosixPath('cifar/train/11302_airplane.png'),\n",
              " PosixPath('cifar/train/45528_truck.png'),\n",
              " PosixPath('cifar/train/44131_frog.png'),\n",
              " PosixPath('cifar/train/43327_deer.png'),\n",
              " PosixPath('cifar/train/2482_dog.png'),\n",
              " PosixPath('cifar/train/46021_deer.png'),\n",
              " PosixPath('cifar/train/25627_cat.png'),\n",
              " PosixPath('cifar/train/31885_truck.png'),\n",
              " PosixPath('cifar/train/17408_horse.png'),\n",
              " PosixPath('cifar/train/10635_frog.png'),\n",
              " PosixPath('cifar/train/40971_automobile.png'),\n",
              " PosixPath('cifar/train/19932_bird.png'),\n",
              " PosixPath('cifar/train/11102_horse.png'),\n",
              " PosixPath('cifar/train/45769_automobile.png'),\n",
              " PosixPath('cifar/train/37695_horse.png'),\n",
              " PosixPath('cifar/train/14746_frog.png'),\n",
              " PosixPath('cifar/train/2210_deer.png'),\n",
              " PosixPath('cifar/train/28871_truck.png'),\n",
              " PosixPath('cifar/train/40448_airplane.png'),\n",
              " PosixPath('cifar/train/4355_dog.png'),\n",
              " PosixPath('cifar/train/31665_automobile.png'),\n",
              " PosixPath('cifar/train/30327_truck.png'),\n",
              " PosixPath('cifar/train/47892_cat.png'),\n",
              " PosixPath('cifar/train/6850_horse.png'),\n",
              " PosixPath('cifar/train/47107_dog.png'),\n",
              " PosixPath('cifar/train/36172_horse.png'),\n",
              " PosixPath('cifar/train/41480_dog.png'),\n",
              " PosixPath('cifar/train/19332_airplane.png'),\n",
              " PosixPath('cifar/train/49430_cat.png'),\n",
              " PosixPath('cifar/train/442_ship.png'),\n",
              " PosixPath('cifar/train/14490_deer.png'),\n",
              " PosixPath('cifar/train/42242_dog.png'),\n",
              " PosixPath('cifar/train/44516_deer.png'),\n",
              " PosixPath('cifar/train/15432_dog.png'),\n",
              " PosixPath('cifar/train/714_automobile.png'),\n",
              " PosixPath('cifar/train/27385_frog.png'),\n",
              " PosixPath('cifar/train/36491_airplane.png'),\n",
              " PosixPath('cifar/train/12180_bird.png'),\n",
              " PosixPath('cifar/train/18779_truck.png'),\n",
              " PosixPath('cifar/train/407_airplane.png'),\n",
              " PosixPath('cifar/train/15554_airplane.png'),\n",
              " PosixPath('cifar/train/28939_deer.png'),\n",
              " PosixPath('cifar/train/4452_frog.png'),\n",
              " PosixPath('cifar/train/9062_airplane.png'),\n",
              " PosixPath('cifar/train/27993_cat.png'),\n",
              " PosixPath('cifar/train/49866_dog.png'),\n",
              " PosixPath('cifar/train/8889_airplane.png'),\n",
              " PosixPath('cifar/train/13626_bird.png'),\n",
              " PosixPath('cifar/train/21480_deer.png'),\n",
              " PosixPath('cifar/train/33759_frog.png'),\n",
              " PosixPath('cifar/train/13193_horse.png'),\n",
              " PosixPath('cifar/train/47634_frog.png'),\n",
              " PosixPath('cifar/train/35312_frog.png'),\n",
              " PosixPath('cifar/train/39043_truck.png'),\n",
              " PosixPath('cifar/train/45084_automobile.png'),\n",
              " PosixPath('cifar/train/35180_deer.png'),\n",
              " PosixPath('cifar/train/36562_horse.png'),\n",
              " PosixPath('cifar/train/17708_dog.png'),\n",
              " PosixPath('cifar/train/29839_cat.png'),\n",
              " PosixPath('cifar/train/48705_truck.png'),\n",
              " PosixPath('cifar/train/47158_dog.png'),\n",
              " PosixPath('cifar/train/44795_frog.png'),\n",
              " PosixPath('cifar/train/36514_deer.png'),\n",
              " PosixPath('cifar/train/18105_airplane.png'),\n",
              " PosixPath('cifar/train/24585_dog.png'),\n",
              " PosixPath('cifar/train/38541_truck.png'),\n",
              " PosixPath('cifar/train/1818_bird.png'),\n",
              " PosixPath('cifar/train/36857_dog.png'),\n",
              " PosixPath('cifar/train/48219_horse.png'),\n",
              " PosixPath('cifar/train/11902_cat.png'),\n",
              " PosixPath('cifar/train/28621_frog.png'),\n",
              " PosixPath('cifar/train/510_bird.png'),\n",
              " PosixPath('cifar/train/4190_frog.png'),\n",
              " PosixPath('cifar/train/19344_cat.png'),\n",
              " PosixPath('cifar/train/28504_frog.png'),\n",
              " PosixPath('cifar/train/21034_bird.png'),\n",
              " PosixPath('cifar/train/21131_bird.png'),\n",
              " PosixPath('cifar/train/31647_dog.png'),\n",
              " PosixPath('cifar/train/21857_horse.png'),\n",
              " PosixPath('cifar/train/40163_bird.png'),\n",
              " PosixPath('cifar/train/23736_ship.png'),\n",
              " PosixPath('cifar/train/14246_dog.png'),\n",
              " PosixPath('cifar/train/32682_cat.png'),\n",
              " PosixPath('cifar/train/35871_bird.png'),\n",
              " PosixPath('cifar/train/37018_deer.png'),\n",
              " PosixPath('cifar/train/11169_airplane.png'),\n",
              " PosixPath('cifar/train/13655_bird.png'),\n",
              " PosixPath('cifar/train/8377_bird.png'),\n",
              " PosixPath('cifar/train/27631_deer.png'),\n",
              " PosixPath('cifar/train/39307_horse.png'),\n",
              " PosixPath('cifar/train/26066_frog.png'),\n",
              " PosixPath('cifar/train/18407_frog.png'),\n",
              " PosixPath('cifar/train/46137_airplane.png'),\n",
              " PosixPath('cifar/train/40170_frog.png'),\n",
              " PosixPath('cifar/train/17515_automobile.png'),\n",
              " PosixPath('cifar/train/17191_frog.png'),\n",
              " PosixPath('cifar/train/29968_ship.png'),\n",
              " PosixPath('cifar/train/14774_bird.png'),\n",
              " PosixPath('cifar/train/47224_bird.png'),\n",
              " PosixPath('cifar/train/3937_automobile.png'),\n",
              " PosixPath('cifar/train/41289_automobile.png'),\n",
              " PosixPath('cifar/train/24030_bird.png'),\n",
              " PosixPath('cifar/train/32369_airplane.png'),\n",
              " PosixPath('cifar/train/23995_cat.png'),\n",
              " PosixPath('cifar/train/17317_frog.png'),\n",
              " PosixPath('cifar/train/37344_frog.png'),\n",
              " PosixPath('cifar/train/2896_deer.png'),\n",
              " PosixPath('cifar/train/3208_horse.png'),\n",
              " PosixPath('cifar/train/7389_cat.png'),\n",
              " PosixPath('cifar/train/30532_bird.png'),\n",
              " PosixPath('cifar/train/20714_cat.png'),\n",
              " PosixPath('cifar/train/33962_dog.png'),\n",
              " PosixPath('cifar/train/40592_ship.png'),\n",
              " PosixPath('cifar/train/2964_airplane.png'),\n",
              " PosixPath('cifar/train/33051_bird.png'),\n",
              " PosixPath('cifar/train/14534_airplane.png'),\n",
              " PosixPath('cifar/train/10376_ship.png'),\n",
              " PosixPath('cifar/train/23389_cat.png'),\n",
              " PosixPath('cifar/train/15426_deer.png'),\n",
              " PosixPath('cifar/train/20351_automobile.png'),\n",
              " PosixPath('cifar/train/20504_frog.png'),\n",
              " PosixPath('cifar/train/36726_bird.png'),\n",
              " PosixPath('cifar/train/48910_dog.png'),\n",
              " PosixPath('cifar/train/41490_airplane.png'),\n",
              " PosixPath('cifar/train/11051_horse.png'),\n",
              " PosixPath('cifar/train/2289_automobile.png'),\n",
              " PosixPath('cifar/train/28274_automobile.png'),\n",
              " PosixPath('cifar/train/36451_ship.png'),\n",
              " PosixPath('cifar/train/48634_deer.png'),\n",
              " PosixPath('cifar/train/18537_horse.png'),\n",
              " PosixPath('cifar/train/22768_cat.png'),\n",
              " PosixPath('cifar/train/12524_frog.png'),\n",
              " PosixPath('cifar/train/25529_deer.png'),\n",
              " PosixPath('cifar/train/33425_frog.png'),\n",
              " PosixPath('cifar/train/10901_bird.png'),\n",
              " PosixPath('cifar/train/48258_horse.png'),\n",
              " PosixPath('cifar/train/10894_truck.png'),\n",
              " PosixPath('cifar/train/16902_ship.png'),\n",
              " PosixPath('cifar/train/49306_cat.png'),\n",
              " PosixPath('cifar/train/41005_deer.png'),\n",
              " PosixPath('cifar/train/27462_dog.png'),\n",
              " PosixPath('cifar/train/10398_bird.png'),\n",
              " PosixPath('cifar/train/27953_automobile.png'),\n",
              " PosixPath('cifar/train/44701_ship.png'),\n",
              " PosixPath('cifar/train/32716_ship.png'),\n",
              " PosixPath('cifar/train/31853_ship.png'),\n",
              " PosixPath('cifar/train/15150_truck.png'),\n",
              " PosixPath('cifar/train/29045_truck.png'),\n",
              " PosixPath('cifar/train/8560_truck.png'),\n",
              " PosixPath('cifar/train/693_deer.png'),\n",
              " PosixPath('cifar/train/46930_dog.png'),\n",
              " PosixPath('cifar/train/28543_truck.png'),\n",
              " PosixPath('cifar/train/46490_deer.png'),\n",
              " PosixPath('cifar/train/38236_horse.png'),\n",
              " PosixPath('cifar/train/32493_frog.png'),\n",
              " PosixPath('cifar/train/34770_deer.png'),\n",
              " PosixPath('cifar/train/44550_cat.png'),\n",
              " PosixPath('cifar/train/6244_automobile.png'),\n",
              " PosixPath('cifar/train/10117_frog.png'),\n",
              " PosixPath('cifar/train/45437_bird.png'),\n",
              " PosixPath('cifar/train/43403_airplane.png'),\n",
              " PosixPath('cifar/train/47707_frog.png'),\n",
              " PosixPath('cifar/train/15462_automobile.png'),\n",
              " PosixPath('cifar/train/3650_cat.png'),\n",
              " PosixPath('cifar/train/41492_horse.png'),\n",
              " PosixPath('cifar/train/14621_frog.png'),\n",
              " PosixPath('cifar/train/44856_cat.png'),\n",
              " PosixPath('cifar/train/28203_frog.png'),\n",
              " PosixPath('cifar/train/45671_truck.png'),\n",
              " PosixPath('cifar/train/16325_automobile.png'),\n",
              " PosixPath('cifar/train/30216_horse.png'),\n",
              " PosixPath('cifar/train/5432_airplane.png'),\n",
              " PosixPath('cifar/train/47697_truck.png'),\n",
              " PosixPath('cifar/train/19639_airplane.png'),\n",
              " PosixPath('cifar/train/46834_horse.png'),\n",
              " PosixPath('cifar/train/36006_bird.png'),\n",
              " PosixPath('cifar/train/20703_bird.png'),\n",
              " PosixPath('cifar/train/41677_airplane.png'),\n",
              " PosixPath('cifar/train/6010_horse.png'),\n",
              " PosixPath('cifar/train/3900_airplane.png'),\n",
              " PosixPath('cifar/train/33711_airplane.png'),\n",
              " PosixPath('cifar/train/28794_airplane.png'),\n",
              " PosixPath('cifar/train/26341_airplane.png'),\n",
              " PosixPath('cifar/train/13051_airplane.png'),\n",
              " PosixPath('cifar/train/37619_airplane.png'),\n",
              " PosixPath('cifar/train/23657_truck.png'),\n",
              " PosixPath('cifar/train/49037_horse.png'),\n",
              " PosixPath('cifar/train/8410_airplane.png'),\n",
              " PosixPath('cifar/train/12620_automobile.png'),\n",
              " PosixPath('cifar/train/45749_deer.png'),\n",
              " PosixPath('cifar/train/19846_deer.png'),\n",
              " PosixPath('cifar/train/31465_frog.png'),\n",
              " PosixPath('cifar/train/46222_dog.png'),\n",
              " PosixPath('cifar/train/43159_ship.png'),\n",
              " PosixPath('cifar/train/7487_cat.png'),\n",
              " PosixPath('cifar/train/7322_deer.png'),\n",
              " PosixPath('cifar/train/6388_bird.png'),\n",
              " PosixPath('cifar/train/22705_ship.png'),\n",
              " PosixPath('cifar/train/30742_dog.png'),\n",
              " PosixPath('cifar/train/28991_cat.png'),\n",
              " PosixPath('cifar/train/8984_horse.png'),\n",
              " PosixPath('cifar/train/13443_cat.png'),\n",
              " PosixPath('cifar/train/49474_dog.png'),\n",
              " PosixPath('cifar/train/7718_automobile.png'),\n",
              " PosixPath('cifar/train/9576_automobile.png'),\n",
              " PosixPath('cifar/train/389_automobile.png'),\n",
              " PosixPath('cifar/train/35741_truck.png'),\n",
              " PosixPath('cifar/train/136_automobile.png'),\n",
              " PosixPath('cifar/train/31035_bird.png'),\n",
              " PosixPath('cifar/train/43769_frog.png'),\n",
              " PosixPath('cifar/train/14550_airplane.png'),\n",
              " PosixPath('cifar/train/44567_horse.png'),\n",
              " PosixPath('cifar/train/12936_airplane.png'),\n",
              " PosixPath('cifar/train/23304_horse.png'),\n",
              " PosixPath('cifar/train/858_horse.png'),\n",
              " PosixPath('cifar/train/11859_deer.png'),\n",
              " PosixPath('cifar/train/16509_ship.png'),\n",
              " PosixPath('cifar/train/13374_automobile.png'),\n",
              " PosixPath('cifar/train/12991_airplane.png'),\n",
              " PosixPath('cifar/train/5854_horse.png'),\n",
              " PosixPath('cifar/train/22881_airplane.png'),\n",
              " PosixPath('cifar/train/45911_deer.png'),\n",
              " PosixPath('cifar/train/43802_truck.png'),\n",
              " PosixPath('cifar/train/37582_truck.png'),\n",
              " PosixPath('cifar/train/32507_horse.png'),\n",
              " PosixPath('cifar/train/23368_truck.png'),\n",
              " PosixPath('cifar/train/4070_bird.png'),\n",
              " PosixPath('cifar/train/11067_cat.png'),\n",
              " PosixPath('cifar/train/33582_cat.png'),\n",
              " PosixPath('cifar/train/18875_deer.png'),\n",
              " PosixPath('cifar/train/23434_ship.png'),\n",
              " PosixPath('cifar/train/17389_frog.png'),\n",
              " PosixPath('cifar/train/46920_automobile.png'),\n",
              " PosixPath('cifar/train/34566_bird.png'),\n",
              " PosixPath('cifar/train/32328_bird.png'),\n",
              " PosixPath('cifar/train/24379_bird.png'),\n",
              " PosixPath('cifar/train/44366_horse.png'),\n",
              " PosixPath('cifar/train/1816_airplane.png'),\n",
              " PosixPath('cifar/train/21485_truck.png'),\n",
              " PosixPath('cifar/train/598_airplane.png'),\n",
              " PosixPath('cifar/train/44204_automobile.png'),\n",
              " PosixPath('cifar/train/13186_deer.png'),\n",
              " PosixPath('cifar/train/48922_bird.png'),\n",
              " PosixPath('cifar/train/40437_frog.png'),\n",
              " PosixPath('cifar/train/5732_ship.png'),\n",
              " PosixPath('cifar/train/28112_bird.png'),\n",
              " PosixPath('cifar/train/8814_horse.png'),\n",
              " PosixPath('cifar/train/6394_cat.png'),\n",
              " PosixPath('cifar/train/44694_horse.png'),\n",
              " PosixPath('cifar/train/16759_cat.png'),\n",
              " PosixPath('cifar/train/46874_bird.png'),\n",
              " PosixPath('cifar/train/13232_bird.png'),\n",
              " PosixPath('cifar/train/2142_airplane.png'),\n",
              " PosixPath('cifar/train/2948_bird.png'),\n",
              " PosixPath('cifar/train/20087_dog.png'),\n",
              " PosixPath('cifar/train/29119_frog.png'),\n",
              " PosixPath('cifar/train/16053_bird.png'),\n",
              " PosixPath('cifar/train/46596_cat.png'),\n",
              " PosixPath('cifar/train/26335_frog.png'),\n",
              " PosixPath('cifar/train/42130_automobile.png'),\n",
              " PosixPath('cifar/train/39492_bird.png'),\n",
              " PosixPath('cifar/train/20634_truck.png'),\n",
              " PosixPath('cifar/train/43217_automobile.png'),\n",
              " PosixPath('cifar/train/34551_dog.png'),\n",
              " PosixPath('cifar/train/48864_ship.png'),\n",
              " PosixPath('cifar/train/46901_dog.png'),\n",
              " PosixPath('cifar/train/12056_airplane.png'),\n",
              " PosixPath('cifar/train/30267_airplane.png'),\n",
              " PosixPath('cifar/train/35663_ship.png'),\n",
              " PosixPath('cifar/train/44209_frog.png'),\n",
              " PosixPath('cifar/train/30440_airplane.png'),\n",
              " PosixPath('cifar/train/9417_airplane.png'),\n",
              " PosixPath('cifar/train/20668_ship.png'),\n",
              " PosixPath('cifar/train/8842_airplane.png'),\n",
              " PosixPath('cifar/train/6930_cat.png'),\n",
              " PosixPath('cifar/train/48202_deer.png'),\n",
              " PosixPath('cifar/train/26931_horse.png'),\n",
              " PosixPath('cifar/train/39422_automobile.png'),\n",
              " PosixPath('cifar/train/8975_truck.png'),\n",
              " PosixPath('cifar/train/33907_automobile.png'),\n",
              " PosixPath('cifar/train/7838_truck.png'),\n",
              " PosixPath('cifar/train/3349_bird.png'),\n",
              " PosixPath('cifar/train/11177_ship.png'),\n",
              " PosixPath('cifar/train/44411_automobile.png'),\n",
              " PosixPath('cifar/train/18311_automobile.png'),\n",
              " PosixPath('cifar/train/8601_dog.png'),\n",
              " PosixPath('cifar/train/45421_dog.png'),\n",
              " PosixPath('cifar/train/21558_automobile.png'),\n",
              " PosixPath('cifar/train/31273_dog.png'),\n",
              " PosixPath('cifar/train/25697_automobile.png'),\n",
              " PosixPath('cifar/train/1593_airplane.png'),\n",
              " PosixPath('cifar/train/2658_ship.png'),\n",
              " PosixPath('cifar/train/30722_truck.png'),\n",
              " PosixPath('cifar/train/25483_truck.png'),\n",
              " PosixPath('cifar/train/11781_horse.png'),\n",
              " PosixPath('cifar/train/8270_ship.png'),\n",
              " PosixPath('cifar/train/28419_cat.png'),\n",
              " PosixPath('cifar/train/30753_cat.png'),\n",
              " PosixPath('cifar/train/23228_cat.png'),\n",
              " PosixPath('cifar/train/4387_airplane.png'),\n",
              " PosixPath('cifar/train/42372_airplane.png'),\n",
              " PosixPath('cifar/train/13782_truck.png'),\n",
              " PosixPath('cifar/train/47233_horse.png'),\n",
              " PosixPath('cifar/train/45060_bird.png'),\n",
              " PosixPath('cifar/train/35882_bird.png'),\n",
              " PosixPath('cifar/train/40522_deer.png'),\n",
              " PosixPath('cifar/train/25843_airplane.png'),\n",
              " PosixPath('cifar/train/38789_truck.png'),\n",
              " PosixPath('cifar/train/5044_horse.png'),\n",
              " PosixPath('cifar/train/30213_cat.png'),\n",
              " PosixPath('cifar/train/3564_airplane.png'),\n",
              " PosixPath('cifar/train/14848_airplane.png'),\n",
              " PosixPath('cifar/train/10443_ship.png'),\n",
              " PosixPath('cifar/train/34014_cat.png'),\n",
              " PosixPath('cifar/train/12515_dog.png'),\n",
              " PosixPath('cifar/train/6729_cat.png'),\n",
              " PosixPath('cifar/train/15308_automobile.png'),\n",
              " PosixPath('cifar/train/3070_frog.png'),\n",
              " PosixPath('cifar/train/19672_bird.png'),\n",
              " PosixPath('cifar/train/42320_airplane.png'),\n",
              " PosixPath('cifar/train/49590_automobile.png'),\n",
              " PosixPath('cifar/train/1191_frog.png'),\n",
              " PosixPath('cifar/train/34108_automobile.png'),\n",
              " PosixPath('cifar/train/6118_frog.png'),\n",
              " PosixPath('cifar/train/15635_ship.png'),\n",
              " PosixPath('cifar/train/11459_frog.png'),\n",
              " PosixPath('cifar/train/39026_airplane.png'),\n",
              " PosixPath('cifar/train/705_deer.png'),\n",
              " PosixPath('cifar/train/42744_cat.png'),\n",
              " PosixPath('cifar/train/10313_ship.png'),\n",
              " PosixPath('cifar/train/36355_bird.png'),\n",
              " PosixPath('cifar/train/47662_dog.png'),\n",
              " PosixPath('cifar/train/4442_horse.png'),\n",
              " PosixPath('cifar/train/49920_dog.png'),\n",
              " PosixPath('cifar/train/34664_airplane.png'),\n",
              " PosixPath('cifar/train/4484_cat.png'),\n",
              " PosixPath('cifar/train/756_truck.png'),\n",
              " PosixPath('cifar/train/41391_truck.png'),\n",
              " PosixPath('cifar/train/24217_automobile.png'),\n",
              " PosixPath('cifar/train/5150_bird.png'),\n",
              " PosixPath('cifar/train/40376_ship.png'),\n",
              " PosixPath('cifar/train/10169_automobile.png'),\n",
              " PosixPath('cifar/train/46296_truck.png'),\n",
              " PosixPath('cifar/train/25151_automobile.png'),\n",
              " PosixPath('cifar/train/40782_frog.png'),\n",
              " PosixPath('cifar/train/29532_bird.png'),\n",
              " PosixPath('cifar/train/7884_automobile.png'),\n",
              " PosixPath('cifar/train/7193_horse.png'),\n",
              " PosixPath('cifar/train/6815_dog.png'),\n",
              " PosixPath('cifar/train/29453_horse.png'),\n",
              " PosixPath('cifar/train/14513_frog.png'),\n",
              " PosixPath('cifar/train/7351_dog.png'),\n",
              " PosixPath('cifar/train/2713_frog.png'),\n",
              " PosixPath('cifar/train/19317_airplane.png'),\n",
              " PosixPath('cifar/train/37177_airplane.png'),\n",
              " PosixPath('cifar/train/46578_deer.png'),\n",
              " PosixPath('cifar/train/31635_airplane.png'),\n",
              " PosixPath('cifar/train/3800_ship.png'),\n",
              " PosixPath('cifar/train/11244_ship.png'),\n",
              " PosixPath('cifar/train/15207_dog.png'),\n",
              " PosixPath('cifar/train/30160_airplane.png'),\n",
              " PosixPath('cifar/train/14807_airplane.png'),\n",
              " PosixPath('cifar/train/18019_truck.png'),\n",
              " PosixPath('cifar/train/16315_ship.png'),\n",
              " PosixPath('cifar/train/31133_frog.png'),\n",
              " PosixPath('cifar/train/40192_ship.png'),\n",
              " PosixPath('cifar/train/28373_cat.png'),\n",
              " PosixPath('cifar/train/41838_horse.png'),\n",
              " PosixPath('cifar/train/40394_automobile.png'),\n",
              " PosixPath('cifar/train/30086_automobile.png'),\n",
              " PosixPath('cifar/train/42666_automobile.png'),\n",
              " PosixPath('cifar/train/9252_automobile.png'),\n",
              " PosixPath('cifar/train/16565_horse.png'),\n",
              " PosixPath('cifar/train/10451_deer.png'),\n",
              " PosixPath('cifar/train/13871_deer.png'),\n",
              " PosixPath('cifar/train/26229_truck.png'),\n",
              " PosixPath('cifar/train/9406_frog.png'),\n",
              " PosixPath('cifar/train/42042_truck.png'),\n",
              " PosixPath('cifar/train/48228_deer.png'),\n",
              " PosixPath('cifar/train/45576_horse.png'),\n",
              " PosixPath('cifar/train/24713_airplane.png'),\n",
              " PosixPath('cifar/train/31237_bird.png'),\n",
              " PosixPath('cifar/train/47751_ship.png'),\n",
              " PosixPath('cifar/train/18012_airplane.png'),\n",
              " PosixPath('cifar/train/1214_airplane.png'),\n",
              " PosixPath('cifar/train/44291_deer.png'),\n",
              " PosixPath('cifar/train/26146_bird.png'),\n",
              " PosixPath('cifar/train/33444_truck.png'),\n",
              " PosixPath('cifar/train/31360_horse.png'),\n",
              " PosixPath('cifar/train/36359_automobile.png'),\n",
              " PosixPath('cifar/train/19266_truck.png'),\n",
              " PosixPath('cifar/train/15651_frog.png'),\n",
              " PosixPath('cifar/train/9395_deer.png'),\n",
              " PosixPath('cifar/train/39299_ship.png'),\n",
              " PosixPath('cifar/train/24897_frog.png'),\n",
              " PosixPath('cifar/train/32849_dog.png'),\n",
              " PosixPath('cifar/train/3475_cat.png'),\n",
              " PosixPath('cifar/train/25025_frog.png'),\n",
              " PosixPath('cifar/train/24753_airplane.png'),\n",
              " PosixPath('cifar/train/1827_truck.png'),\n",
              " PosixPath('cifar/train/3361_airplane.png'),\n",
              " PosixPath('cifar/train/48227_ship.png'),\n",
              " PosixPath('cifar/train/48494_cat.png'),\n",
              " PosixPath('cifar/train/44005_bird.png'),\n",
              " PosixPath('cifar/train/23035_airplane.png'),\n",
              " PosixPath('cifar/train/47143_airplane.png'),\n",
              " PosixPath('cifar/train/42410_automobile.png'),\n",
              " PosixPath('cifar/train/25122_horse.png'),\n",
              " PosixPath('cifar/train/39134_frog.png'),\n",
              " PosixPath('cifar/train/47410_cat.png'),\n",
              " PosixPath('cifar/train/15072_horse.png'),\n",
              " PosixPath('cifar/train/2740_ship.png'),\n",
              " PosixPath('cifar/train/24142_ship.png'),\n",
              " PosixPath('cifar/train/21257_ship.png'),\n",
              " PosixPath('cifar/train/15797_automobile.png'),\n",
              " PosixPath('cifar/train/21671_ship.png'),\n",
              " PosixPath('cifar/train/39158_cat.png'),\n",
              " PosixPath('cifar/train/42443_automobile.png'),\n",
              " PosixPath('cifar/train/39519_airplane.png'),\n",
              " PosixPath('cifar/train/32901_deer.png'),\n",
              " PosixPath('cifar/train/35279_airplane.png'),\n",
              " PosixPath('cifar/train/30766_dog.png'),\n",
              " PosixPath('cifar/train/8156_dog.png'),\n",
              " PosixPath('cifar/train/16848_automobile.png'),\n",
              " PosixPath('cifar/train/34830_automobile.png'),\n",
              " PosixPath('cifar/train/24016_bird.png'),\n",
              " PosixPath('cifar/train/8901_horse.png'),\n",
              " PosixPath('cifar/train/17556_deer.png'),\n",
              " PosixPath('cifar/train/14673_dog.png'),\n",
              " PosixPath('cifar/train/21630_bird.png'),\n",
              " PosixPath('cifar/train/43636_automobile.png'),\n",
              " PosixPath('cifar/train/34266_bird.png'),\n",
              " PosixPath('cifar/train/23584_cat.png'),\n",
              " PosixPath('cifar/train/890_truck.png'),\n",
              " PosixPath('cifar/train/45121_deer.png'),\n",
              " PosixPath('cifar/train/48025_bird.png'),\n",
              " PosixPath('cifar/train/32902_truck.png'),\n",
              " PosixPath('cifar/train/27710_airplane.png'),\n",
              " PosixPath('cifar/train/36389_airplane.png'),\n",
              " PosixPath('cifar/train/38937_airplane.png'),\n",
              " PosixPath('cifar/train/25152_frog.png'),\n",
              " PosixPath('cifar/train/35590_dog.png'),\n",
              " PosixPath('cifar/train/18797_ship.png'),\n",
              " PosixPath('cifar/train/16737_truck.png'),\n",
              " PosixPath('cifar/train/15936_truck.png'),\n",
              " PosixPath('cifar/train/28654_deer.png'),\n",
              " PosixPath('cifar/train/19710_automobile.png'),\n",
              " PosixPath('cifar/train/34070_airplane.png'),\n",
              " PosixPath('cifar/train/49240_cat.png'),\n",
              " PosixPath('cifar/train/12024_ship.png'),\n",
              " PosixPath('cifar/train/17557_cat.png'),\n",
              " PosixPath('cifar/train/33485_horse.png'),\n",
              " PosixPath('cifar/train/40694_horse.png'),\n",
              " PosixPath('cifar/train/42772_dog.png'),\n",
              " PosixPath('cifar/train/13021_deer.png'),\n",
              " PosixPath('cifar/train/38774_deer.png'),\n",
              " PosixPath('cifar/train/9633_deer.png'),\n",
              " PosixPath('cifar/train/29871_cat.png'),\n",
              " PosixPath('cifar/train/23000_horse.png'),\n",
              " PosixPath('cifar/train/42329_bird.png'),\n",
              " PosixPath('cifar/train/41646_dog.png'),\n",
              " PosixPath('cifar/train/48181_dog.png'),\n",
              " PosixPath('cifar/train/23376_cat.png'),\n",
              " PosixPath('cifar/train/34863_truck.png'),\n",
              " PosixPath('cifar/train/29989_bird.png'),\n",
              " PosixPath('cifar/train/3123_ship.png'),\n",
              " PosixPath('cifar/train/37420_ship.png'),\n",
              " PosixPath('cifar/train/29215_cat.png'),\n",
              " PosixPath('cifar/train/27568_horse.png'),\n",
              " PosixPath('cifar/train/12863_truck.png'),\n",
              " PosixPath('cifar/train/15580_airplane.png'),\n",
              " PosixPath('cifar/train/23708_frog.png'),\n",
              " PosixPath('cifar/train/36508_truck.png'),\n",
              " PosixPath('cifar/train/40956_airplane.png'),\n",
              " PosixPath('cifar/train/26900_cat.png'),\n",
              " PosixPath('cifar/train/12544_ship.png'),\n",
              " PosixPath('cifar/train/16642_truck.png'),\n",
              " PosixPath('cifar/train/10201_dog.png'),\n",
              " PosixPath('cifar/train/25242_airplane.png'),\n",
              " PosixPath('cifar/train/10463_cat.png'),\n",
              " PosixPath('cifar/train/30620_truck.png'),\n",
              " PosixPath('cifar/train/11054_airplane.png'),\n",
              " PosixPath('cifar/train/6574_cat.png'),\n",
              " PosixPath('cifar/train/16701_dog.png'),\n",
              " PosixPath('cifar/train/14642_ship.png'),\n",
              " PosixPath('cifar/train/42531_automobile.png'),\n",
              " PosixPath('cifar/train/8338_deer.png'),\n",
              " PosixPath('cifar/train/26609_cat.png'),\n",
              " PosixPath('cifar/train/28478_deer.png'),\n",
              " PosixPath('cifar/train/41263_deer.png'),\n",
              " PosixPath('cifar/train/26088_airplane.png'),\n",
              " PosixPath('cifar/train/17834_bird.png'),\n",
              " PosixPath('cifar/train/23156_automobile.png'),\n",
              " PosixPath('cifar/train/7277_frog.png'),\n",
              " PosixPath('cifar/train/21086_horse.png'),\n",
              " PosixPath('cifar/train/21538_automobile.png'),\n",
              " PosixPath('cifar/train/45542_cat.png'),\n",
              " PosixPath('cifar/train/45640_truck.png'),\n",
              " PosixPath('cifar/train/725_deer.png'),\n",
              " PosixPath('cifar/train/44625_automobile.png'),\n",
              " PosixPath('cifar/train/7700_airplane.png'),\n",
              " PosixPath('cifar/train/35236_ship.png'),\n",
              " PosixPath('cifar/train/12418_ship.png'),\n",
              " PosixPath('cifar/train/17132_frog.png'),\n",
              " PosixPath('cifar/train/40221_bird.png'),\n",
              " PosixPath('cifar/train/43193_horse.png'),\n",
              " PosixPath('cifar/train/24094_airplane.png'),\n",
              " PosixPath('cifar/train/10199_frog.png'),\n",
              " PosixPath('cifar/train/44272_automobile.png'),\n",
              " PosixPath('cifar/train/2262_airplane.png'),\n",
              " PosixPath('cifar/train/17297_dog.png'),\n",
              " PosixPath('cifar/train/4130_frog.png'),\n",
              " PosixPath('cifar/train/42512_deer.png'),\n",
              " PosixPath('cifar/train/17120_ship.png'),\n",
              " PosixPath('cifar/train/861_cat.png'),\n",
              " PosixPath('cifar/train/24673_frog.png'),\n",
              " PosixPath('cifar/train/36937_deer.png'),\n",
              " PosixPath('cifar/train/25541_cat.png'),\n",
              " PosixPath('cifar/train/19561_dog.png'),\n",
              " PosixPath('cifar/train/34673_automobile.png'),\n",
              " PosixPath('cifar/train/36580_horse.png'),\n",
              " PosixPath('cifar/train/7104_ship.png'),\n",
              " PosixPath('cifar/train/34949_airplane.png'),\n",
              " PosixPath('cifar/train/45619_ship.png'),\n",
              " PosixPath('cifar/train/11744_automobile.png'),\n",
              " PosixPath('cifar/train/21216_frog.png'),\n",
              " PosixPath('cifar/train/29393_dog.png'),\n",
              " PosixPath('cifar/train/22021_dog.png'),\n",
              " PosixPath('cifar/train/34102_bird.png'),\n",
              " PosixPath('cifar/train/41794_automobile.png'),\n",
              " PosixPath('cifar/train/4228_bird.png'),\n",
              " PosixPath('cifar/train/23124_horse.png'),\n",
              " PosixPath('cifar/train/47625_dog.png'),\n",
              " PosixPath('cifar/train/47133_bird.png'),\n",
              " PosixPath('cifar/train/15272_frog.png'),\n",
              " PosixPath('cifar/train/42140_truck.png'),\n",
              " PosixPath('cifar/train/24405_deer.png'),\n",
              " PosixPath('cifar/train/21472_airplane.png'),\n",
              " PosixPath('cifar/train/26663_bird.png'),\n",
              " PosixPath('cifar/train/21772_deer.png'),\n",
              " PosixPath('cifar/train/20574_airplane.png'),\n",
              " PosixPath('cifar/train/23322_cat.png'),\n",
              " PosixPath('cifar/train/33268_airplane.png'),\n",
              " PosixPath('cifar/train/38285_airplane.png'),\n",
              " PosixPath('cifar/train/8169_bird.png'),\n",
              " PosixPath('cifar/train/32348_automobile.png'),\n",
              " PosixPath('cifar/train/12619_frog.png'),\n",
              " PosixPath('cifar/train/3664_deer.png'),\n",
              " PosixPath('cifar/train/39417_frog.png'),\n",
              " PosixPath('cifar/train/41494_truck.png'),\n",
              " PosixPath('cifar/train/31648_airplane.png'),\n",
              " PosixPath('cifar/train/13649_airplane.png'),\n",
              " PosixPath('cifar/train/401_airplane.png'),\n",
              " PosixPath('cifar/train/38256_horse.png'),\n",
              " PosixPath('cifar/train/44030_automobile.png'),\n",
              " PosixPath('cifar/train/24076_truck.png'),\n",
              " PosixPath('cifar/train/17349_airplane.png'),\n",
              " PosixPath('cifar/train/33999_airplane.png'),\n",
              " PosixPath('cifar/train/37719_deer.png'),\n",
              " PosixPath('cifar/train/6448_bird.png'),\n",
              " PosixPath('cifar/train/25565_frog.png'),\n",
              " PosixPath('cifar/train/41029_frog.png'),\n",
              " PosixPath('cifar/train/17996_frog.png'),\n",
              " PosixPath('cifar/train/39694_dog.png'),\n",
              " PosixPath('cifar/train/37690_airplane.png'),\n",
              " PosixPath('cifar/train/33933_airplane.png'),\n",
              " PosixPath('cifar/train/19077_frog.png'),\n",
              " PosixPath('cifar/train/25339_airplane.png'),\n",
              " PosixPath('cifar/train/10938_frog.png'),\n",
              " PosixPath('cifar/train/20983_airplane.png'),\n",
              " PosixPath('cifar/train/1401_dog.png'),\n",
              " PosixPath('cifar/train/22746_frog.png'),\n",
              " PosixPath('cifar/train/5785_frog.png'),\n",
              " PosixPath('cifar/train/12961_horse.png'),\n",
              " PosixPath('cifar/train/25686_cat.png'),\n",
              " PosixPath('cifar/train/20523_airplane.png'),\n",
              " PosixPath('cifar/train/12855_ship.png'),\n",
              " PosixPath('cifar/train/7621_horse.png'),\n",
              " PosixPath('cifar/train/10745_cat.png'),\n",
              " PosixPath('cifar/train/19394_horse.png'),\n",
              " PosixPath('cifar/train/12565_horse.png'),\n",
              " PosixPath('cifar/train/20495_dog.png'),\n",
              " PosixPath('cifar/train/29670_deer.png'),\n",
              " PosixPath('cifar/train/4636_automobile.png'),\n",
              " PosixPath('cifar/train/35239_horse.png'),\n",
              " PosixPath('cifar/train/45103_horse.png'),\n",
              " PosixPath('cifar/train/47976_frog.png'),\n",
              " PosixPath('cifar/train/6418_ship.png'),\n",
              " PosixPath('cifar/train/47017_airplane.png'),\n",
              " PosixPath('cifar/train/32758_dog.png'),\n",
              " PosixPath('cifar/train/45182_airplane.png'),\n",
              " PosixPath('cifar/train/15511_horse.png'),\n",
              " PosixPath('cifar/train/45469_dog.png'),\n",
              " PosixPath('cifar/train/19215_deer.png'),\n",
              " PosixPath('cifar/train/20175_horse.png'),\n",
              " PosixPath('cifar/train/37025_deer.png'),\n",
              " PosixPath('cifar/train/23892_horse.png'),\n",
              " PosixPath('cifar/train/48747_frog.png'),\n",
              " PosixPath('cifar/train/44666_airplane.png'),\n",
              " PosixPath('cifar/train/39124_dog.png'),\n",
              " PosixPath('cifar/train/7605_automobile.png'),\n",
              " PosixPath('cifar/train/28099_dog.png'),\n",
              " PosixPath('cifar/train/32098_cat.png'),\n",
              " PosixPath('cifar/train/28076_deer.png'),\n",
              " PosixPath('cifar/train/21104_automobile.png'),\n",
              " PosixPath('cifar/train/11249_deer.png'),\n",
              " PosixPath('cifar/train/34868_horse.png'),\n",
              " PosixPath('cifar/train/49588_automobile.png'),\n",
              " PosixPath('cifar/train/9360_frog.png'),\n",
              " PosixPath('cifar/train/40567_horse.png'),\n",
              " PosixPath('cifar/train/3333_ship.png'),\n",
              " PosixPath('cifar/train/6880_ship.png'),\n",
              " PosixPath('cifar/train/15300_cat.png'),\n",
              " PosixPath('cifar/train/23450_bird.png'),\n",
              " PosixPath('cifar/train/45316_automobile.png'),\n",
              " PosixPath('cifar/train/32089_ship.png'),\n",
              " PosixPath('cifar/train/41967_truck.png'),\n",
              " PosixPath('cifar/train/42662_deer.png'),\n",
              " PosixPath('cifar/train/17778_dog.png'),\n",
              " PosixPath('cifar/train/22182_truck.png'),\n",
              " PosixPath('cifar/train/36484_ship.png'),\n",
              " PosixPath('cifar/train/20960_horse.png'),\n",
              " PosixPath('cifar/train/27843_frog.png'),\n",
              " PosixPath('cifar/train/41877_horse.png'),\n",
              " PosixPath('cifar/train/29198_bird.png'),\n",
              " PosixPath('cifar/train/4654_automobile.png'),\n",
              " PosixPath('cifar/train/2481_horse.png'),\n",
              " PosixPath('cifar/train/21001_horse.png'),\n",
              " PosixPath('cifar/train/13868_ship.png'),\n",
              " PosixPath('cifar/train/23027_cat.png'),\n",
              " PosixPath('cifar/train/1496_cat.png'),\n",
              " PosixPath('cifar/train/10673_ship.png'),\n",
              " PosixPath('cifar/train/45964_frog.png'),\n",
              " PosixPath('cifar/train/13987_deer.png'),\n",
              " PosixPath('cifar/train/31672_frog.png'),\n",
              " PosixPath('cifar/train/48442_truck.png'),\n",
              " PosixPath('cifar/train/41246_deer.png'),\n",
              " PosixPath('cifar/train/42898_ship.png'),\n",
              " PosixPath('cifar/train/9330_bird.png'),\n",
              " PosixPath('cifar/train/23168_cat.png'),\n",
              " PosixPath('cifar/train/7532_cat.png'),\n",
              " PosixPath('cifar/train/13991_cat.png'),\n",
              " PosixPath('cifar/train/43799_cat.png'),\n",
              " PosixPath('cifar/train/35133_horse.png'),\n",
              " PosixPath('cifar/train/21230_automobile.png'),\n",
              " PosixPath('cifar/train/43103_dog.png'),\n",
              " PosixPath('cifar/train/3625_ship.png'),\n",
              " PosixPath('cifar/train/3965_dog.png'),\n",
              " PosixPath('cifar/train/35280_truck.png'),\n",
              " PosixPath('cifar/train/30894_bird.png'),\n",
              " PosixPath('cifar/train/37752_cat.png'),\n",
              " PosixPath('cifar/train/40908_bird.png'),\n",
              " PosixPath('cifar/train/26250_ship.png'),\n",
              " PosixPath('cifar/train/2273_truck.png'),\n",
              " PosixPath('cifar/train/29130_truck.png'),\n",
              " PosixPath('cifar/train/47827_ship.png'),\n",
              " PosixPath('cifar/train/8629_cat.png'),\n",
              " PosixPath('cifar/train/43048_ship.png'),\n",
              " PosixPath('cifar/train/8130_automobile.png'),\n",
              " PosixPath('cifar/train/9938_automobile.png'),\n",
              " PosixPath('cifar/train/45823_frog.png'),\n",
              " PosixPath('cifar/train/12910_airplane.png'),\n",
              " PosixPath('cifar/train/13719_frog.png'),\n",
              " PosixPath('cifar/train/22470_dog.png'),\n",
              " PosixPath('cifar/train/5727_bird.png'),\n",
              " PosixPath('cifar/train/35877_deer.png'),\n",
              " PosixPath('cifar/train/16967_deer.png'),\n",
              " PosixPath('cifar/train/32668_horse.png'),\n",
              " PosixPath('cifar/train/37394_ship.png'),\n",
              " PosixPath('cifar/train/12746_automobile.png'),\n",
              " PosixPath('cifar/train/1288_bird.png'),\n",
              " PosixPath('cifar/train/1241_truck.png'),\n",
              " PosixPath('cifar/train/8767_bird.png'),\n",
              " PosixPath('cifar/train/9428_frog.png'),\n",
              " PosixPath('cifar/train/3429_cat.png'),\n",
              " PosixPath('cifar/train/36651_bird.png'),\n",
              " PosixPath('cifar/train/3066_airplane.png'),\n",
              " PosixPath('cifar/train/28830_deer.png'),\n",
              " PosixPath('cifar/train/42495_truck.png'),\n",
              " PosixPath('cifar/train/17041_cat.png'),\n",
              " PosixPath('cifar/train/22412_dog.png'),\n",
              " PosixPath('cifar/train/44873_truck.png'),\n",
              " PosixPath('cifar/train/45115_ship.png'),\n",
              " PosixPath('cifar/train/20292_dog.png'),\n",
              " PosixPath('cifar/train/10214_horse.png'),\n",
              " PosixPath('cifar/train/14064_cat.png'),\n",
              " PosixPath('cifar/train/42943_dog.png'),\n",
              " PosixPath('cifar/train/43701_cat.png'),\n",
              " PosixPath('cifar/train/1458_bird.png'),\n",
              " PosixPath('cifar/train/41915_dog.png'),\n",
              " PosixPath('cifar/train/8364_truck.png'),\n",
              " PosixPath('cifar/train/39046_frog.png'),\n",
              " PosixPath('cifar/train/48062_cat.png'),\n",
              " PosixPath('cifar/train/42750_deer.png'),\n",
              " PosixPath('cifar/train/195_dog.png'),\n",
              " PosixPath('cifar/train/12494_automobile.png'),\n",
              " PosixPath('cifar/train/32066_deer.png'),\n",
              " PosixPath('cifar/train/46883_deer.png'),\n",
              " PosixPath('cifar/train/22546_deer.png'),\n",
              " PosixPath('cifar/train/44377_dog.png'),\n",
              " PosixPath('cifar/train/47433_airplane.png'),\n",
              " PosixPath('cifar/train/45179_dog.png'),\n",
              " PosixPath('cifar/train/25291_frog.png'),\n",
              " PosixPath('cifar/train/9178_dog.png'),\n",
              " PosixPath('cifar/train/19528_deer.png'),\n",
              " PosixPath('cifar/train/46155_cat.png'),\n",
              " PosixPath('cifar/train/24050_horse.png'),\n",
              " PosixPath('cifar/train/617_automobile.png'),\n",
              " PosixPath('cifar/train/17371_truck.png'),\n",
              " PosixPath('cifar/train/45951_bird.png'),\n",
              " PosixPath('cifar/train/15361_cat.png'),\n",
              " PosixPath('cifar/train/40702_ship.png'),\n",
              " PosixPath('cifar/train/44552_airplane.png'),\n",
              " PosixPath('cifar/train/4468_airplane.png'),\n",
              " PosixPath('cifar/train/35694_automobile.png'),\n",
              " PosixPath('cifar/train/12326_dog.png'),\n",
              " PosixPath('cifar/train/35066_deer.png'),\n",
              " PosixPath('cifar/train/44804_deer.png'),\n",
              " PosixPath('cifar/train/21943_ship.png'),\n",
              " PosixPath('cifar/train/31976_airplane.png'),\n",
              " PosixPath('cifar/train/34851_cat.png'),\n",
              " PosixPath('cifar/train/48682_truck.png'),\n",
              " PosixPath('cifar/train/48015_bird.png'),\n",
              " PosixPath('cifar/train/12867_ship.png'),\n",
              " PosixPath('cifar/train/28054_automobile.png'),\n",
              " PosixPath('cifar/train/3329_airplane.png'),\n",
              " PosixPath('cifar/train/45535_automobile.png'),\n",
              " PosixPath('cifar/train/23715_cat.png'),\n",
              " PosixPath('cifar/train/31404_cat.png'),\n",
              " PosixPath('cifar/train/27050_deer.png'),\n",
              " PosixPath('cifar/train/4658_ship.png'),\n",
              " PosixPath('cifar/train/34998_airplane.png'),\n",
              " PosixPath('cifar/train/46193_frog.png'),\n",
              " PosixPath('cifar/train/39965_automobile.png'),\n",
              " PosixPath('cifar/train/2133_bird.png'),\n",
              " PosixPath('cifar/train/40907_cat.png'),\n",
              " PosixPath('cifar/train/19579_bird.png'),\n",
              " PosixPath('cifar/train/31824_truck.png'),\n",
              " PosixPath('cifar/train/48301_dog.png'),\n",
              " PosixPath('cifar/train/15092_ship.png'),\n",
              " PosixPath('cifar/train/26512_deer.png'),\n",
              " PosixPath('cifar/train/26791_dog.png'),\n",
              " PosixPath('cifar/train/16485_deer.png'),\n",
              " PosixPath('cifar/train/12464_horse.png'),\n",
              " PosixPath('cifar/train/21435_frog.png'),\n",
              " PosixPath('cifar/train/26759_truck.png'),\n",
              " PosixPath('cifar/train/7033_horse.png'),\n",
              " PosixPath('cifar/train/20325_deer.png'),\n",
              " PosixPath('cifar/train/15655_automobile.png'),\n",
              " PosixPath('cifar/train/4447_deer.png'),\n",
              " PosixPath('cifar/train/47852_airplane.png'),\n",
              " PosixPath('cifar/train/13463_cat.png'),\n",
              " PosixPath('cifar/train/44483_automobile.png'),\n",
              " PosixPath('cifar/train/1895_cat.png'),\n",
              " PosixPath('cifar/train/10307_horse.png'),\n",
              " PosixPath('cifar/train/36297_ship.png'),\n",
              " PosixPath('cifar/train/34640_truck.png'),\n",
              " PosixPath('cifar/train/18335_cat.png'),\n",
              " PosixPath('cifar/train/39593_ship.png'),\n",
              " PosixPath('cifar/train/14626_truck.png'),\n",
              " PosixPath('cifar/train/16900_bird.png'),\n",
              " PosixPath('cifar/train/16029_automobile.png'),\n",
              " PosixPath('cifar/train/15035_frog.png'),\n",
              " PosixPath('cifar/train/18952_bird.png'),\n",
              " PosixPath('cifar/train/2166_ship.png'),\n",
              " PosixPath('cifar/train/10190_automobile.png'),\n",
              " PosixPath('cifar/train/43216_bird.png'),\n",
              " PosixPath('cifar/train/14189_truck.png'),\n",
              " PosixPath('cifar/train/31014_truck.png'),\n",
              " PosixPath('cifar/train/1223_truck.png'),\n",
              " PosixPath('cifar/train/2361_dog.png'),\n",
              " PosixPath('cifar/train/46632_airplane.png'),\n",
              " PosixPath('cifar/train/24059_ship.png'),\n",
              " PosixPath('cifar/train/15376_bird.png'),\n",
              " PosixPath('cifar/train/38283_deer.png'),\n",
              " PosixPath('cifar/train/37376_truck.png'),\n",
              " PosixPath('cifar/train/553_truck.png'),\n",
              " PosixPath('cifar/train/35937_cat.png'),\n",
              " PosixPath('cifar/train/39317_ship.png'),\n",
              " PosixPath('cifar/train/22287_bird.png'),\n",
              " PosixPath('cifar/train/46150_deer.png'),\n",
              " PosixPath('cifar/train/23430_cat.png'),\n",
              " PosixPath('cifar/train/35358_truck.png'),\n",
              " PosixPath('cifar/train/12188_bird.png'),\n",
              " PosixPath('cifar/train/43627_deer.png'),\n",
              " PosixPath('cifar/train/41766_deer.png'),\n",
              " PosixPath('cifar/train/24129_horse.png'),\n",
              " PosixPath('cifar/train/4016_horse.png'),\n",
              " PosixPath('cifar/train/26720_ship.png'),\n",
              " PosixPath('cifar/train/47545_frog.png'),\n",
              " PosixPath('cifar/train/35610_truck.png'),\n",
              " PosixPath('cifar/train/39674_automobile.png'),\n",
              " PosixPath('cifar/train/19353_truck.png'),\n",
              " PosixPath('cifar/train/12125_ship.png'),\n",
              " PosixPath('cifar/train/18793_horse.png'),\n",
              " PosixPath('cifar/train/3337_airplane.png'),\n",
              " PosixPath('cifar/train/47540_automobile.png'),\n",
              " PosixPath('cifar/train/15658_bird.png'),\n",
              " PosixPath('cifar/train/346_deer.png'),\n",
              " PosixPath('cifar/train/44171_deer.png'),\n",
              " PosixPath('cifar/train/41051_automobile.png'),\n",
              " PosixPath('cifar/train/1119_airplane.png'),\n",
              " PosixPath('cifar/train/41477_truck.png'),\n",
              " PosixPath('cifar/train/26705_dog.png'),\n",
              " PosixPath('cifar/train/2870_bird.png'),\n",
              " PosixPath('cifar/train/26538_ship.png'),\n",
              " PosixPath('cifar/train/30145_bird.png'),\n",
              " PosixPath('cifar/train/46481_bird.png'),\n",
              " PosixPath('cifar/train/425_bird.png'),\n",
              " PosixPath('cifar/train/38401_frog.png'),\n",
              " PosixPath('cifar/train/15177_dog.png'),\n",
              " PosixPath('cifar/train/40413_truck.png'),\n",
              " PosixPath('cifar/train/16064_frog.png'),\n",
              " PosixPath('cifar/train/16598_automobile.png'),\n",
              " PosixPath('cifar/train/15316_frog.png'),\n",
              " PosixPath('cifar/train/41446_cat.png'),\n",
              " PosixPath('cifar/train/44945_truck.png'),\n",
              " PosixPath('cifar/train/42734_automobile.png'),\n",
              " PosixPath('cifar/train/25943_cat.png'),\n",
              " PosixPath('cifar/train/2583_frog.png'),\n",
              " PosixPath('cifar/train/7474_cat.png'),\n",
              " PosixPath('cifar/train/23309_deer.png'),\n",
              " PosixPath('cifar/train/16389_frog.png'),\n",
              " PosixPath('cifar/train/10085_cat.png'),\n",
              " PosixPath('cifar/train/5080_cat.png'),\n",
              " PosixPath('cifar/train/14053_truck.png'),\n",
              " PosixPath('cifar/train/39659_cat.png'),\n",
              " PosixPath('cifar/train/13949_frog.png'),\n",
              " PosixPath('cifar/train/43323_dog.png'),\n",
              " PosixPath('cifar/train/49888_bird.png'),\n",
              " PosixPath('cifar/train/3984_automobile.png'),\n",
              " PosixPath('cifar/train/8999_truck.png'),\n",
              " PosixPath('cifar/train/15997_horse.png'),\n",
              " PosixPath('cifar/train/30452_cat.png'),\n",
              " PosixPath('cifar/train/47605_deer.png'),\n",
              " PosixPath('cifar/train/48728_automobile.png'),\n",
              " PosixPath('cifar/train/7518_dog.png'),\n",
              " PosixPath('cifar/train/28923_horse.png'),\n",
              " PosixPath('cifar/train/23135_frog.png'),\n",
              " PosixPath('cifar/train/20929_cat.png'),\n",
              " PosixPath('cifar/train/19302_truck.png'),\n",
              " PosixPath('cifar/train/2473_airplane.png'),\n",
              " PosixPath('cifar/train/41467_airplane.png'),\n",
              " PosixPath('cifar/train/9279_horse.png'),\n",
              " PosixPath('cifar/train/45489_bird.png'),\n",
              " PosixPath('cifar/train/48666_dog.png'),\n",
              " PosixPath('cifar/train/34831_airplane.png'),\n",
              " PosixPath('cifar/train/30029_airplane.png'),\n",
              " PosixPath('cifar/train/32382_horse.png'),\n",
              " PosixPath('cifar/train/46832_bird.png'),\n",
              " PosixPath('cifar/train/14250_truck.png'),\n",
              " PosixPath('cifar/train/17695_bird.png'),\n",
              " PosixPath('cifar/train/35164_horse.png'),\n",
              " PosixPath('cifar/train/30754_cat.png'),\n",
              " PosixPath('cifar/train/35265_dog.png'),\n",
              " PosixPath('cifar/train/30482_dog.png'),\n",
              " PosixPath('cifar/train/47426_truck.png'),\n",
              " PosixPath('cifar/train/28650_airplane.png'),\n",
              " PosixPath('cifar/train/22056_ship.png'),\n",
              " PosixPath('cifar/train/31096_truck.png'),\n",
              " PosixPath('cifar/train/23012_automobile.png'),\n",
              " PosixPath('cifar/train/17606_automobile.png'),\n",
              " PosixPath('cifar/train/8827_frog.png'),\n",
              " PosixPath('cifar/train/35640_dog.png'),\n",
              " PosixPath('cifar/train/14455_automobile.png'),\n",
              " PosixPath('cifar/train/24708_horse.png'),\n",
              " PosixPath('cifar/train/794_horse.png'),\n",
              " PosixPath('cifar/train/37687_automobile.png'),\n",
              " PosixPath('cifar/train/39545_ship.png'),\n",
              " PosixPath('cifar/train/19549_truck.png'),\n",
              " PosixPath('cifar/train/18863_bird.png'),\n",
              " PosixPath('cifar/train/19444_airplane.png'),\n",
              " PosixPath('cifar/train/18068_truck.png'),\n",
              " PosixPath('cifar/train/46925_dog.png'),\n",
              " PosixPath('cifar/train/32521_frog.png'),\n",
              " PosixPath('cifar/train/42271_bird.png'),\n",
              " PosixPath('cifar/train/31395_automobile.png'),\n",
              " PosixPath('cifar/train/30085_dog.png'),\n",
              " PosixPath('cifar/train/12821_cat.png'),\n",
              " PosixPath('cifar/train/5969_airplane.png'),\n",
              " PosixPath('cifar/train/1945_horse.png'),\n",
              " PosixPath('cifar/train/16631_truck.png'),\n",
              " PosixPath('cifar/train/11448_horse.png'),\n",
              " PosixPath('cifar/train/41873_frog.png'),\n",
              " PosixPath('cifar/train/12044_bird.png'),\n",
              " PosixPath('cifar/train/10701_deer.png'),\n",
              " PosixPath('cifar/train/28401_airplane.png'),\n",
              " PosixPath('cifar/train/17126_automobile.png'),\n",
              " PosixPath('cifar/train/6723_dog.png'),\n",
              " PosixPath('cifar/train/22345_frog.png'),\n",
              " PosixPath('cifar/train/10429_dog.png'),\n",
              " PosixPath('cifar/train/33390_automobile.png'),\n",
              " PosixPath('cifar/train/45953_bird.png'),\n",
              " PosixPath('cifar/train/5509_dog.png'),\n",
              " PosixPath('cifar/train/28740_dog.png'),\n",
              " PosixPath('cifar/train/15720_horse.png'),\n",
              " PosixPath('cifar/train/1970_ship.png'),\n",
              " PosixPath('cifar/train/37826_automobile.png'),\n",
              " PosixPath('cifar/train/13941_cat.png'),\n",
              " PosixPath('cifar/train/7699_dog.png'),\n",
              " PosixPath('cifar/train/27347_dog.png'),\n",
              " PosixPath('cifar/train/49940_cat.png'),\n",
              " PosixPath('cifar/train/15089_dog.png'),\n",
              " PosixPath('cifar/train/27988_ship.png'),\n",
              " PosixPath('cifar/train/2557_bird.png'),\n",
              " PosixPath('cifar/train/39597_truck.png'),\n",
              " PosixPath('cifar/train/24677_airplane.png'),\n",
              " PosixPath('cifar/train/19151_cat.png'),\n",
              " PosixPath('cifar/train/5871_bird.png'),\n",
              " PosixPath('cifar/train/9282_ship.png'),\n",
              " PosixPath('cifar/train/16553_airplane.png'),\n",
              " PosixPath('cifar/train/36137_bird.png'),\n",
              " PosixPath('cifar/train/25486_truck.png'),\n",
              " PosixPath('cifar/train/33701_frog.png'),\n",
              " PosixPath('cifar/train/35834_bird.png'),\n",
              " PosixPath('cifar/train/45349_airplane.png'),\n",
              " PosixPath('cifar/train/14998_truck.png'),\n",
              " PosixPath('cifar/train/36858_airplane.png'),\n",
              " PosixPath('cifar/train/20526_bird.png'),\n",
              " PosixPath('cifar/train/41628_airplane.png'),\n",
              " PosixPath('cifar/train/48311_ship.png'),\n",
              " PosixPath('cifar/train/9587_horse.png'),\n",
              " PosixPath('cifar/train/19040_frog.png'),\n",
              " PosixPath('cifar/train/1264_deer.png'),\n",
              " PosixPath('cifar/train/38201_horse.png'),\n",
              " PosixPath('cifar/train/36679_automobile.png'),\n",
              " PosixPath('cifar/train/45222_dog.png'),\n",
              " PosixPath('cifar/train/44134_automobile.png'),\n",
              " PosixPath('cifar/train/28298_automobile.png'),\n",
              " PosixPath('cifar/train/41823_deer.png'),\n",
              " PosixPath('cifar/train/33115_deer.png'),\n",
              " PosixPath('cifar/train/45382_cat.png'),\n",
              " PosixPath('cifar/train/33003_airplane.png'),\n",
              " PosixPath('cifar/train/37003_dog.png'),\n",
              " PosixPath('cifar/train/41527_cat.png'),\n",
              " PosixPath('cifar/train/21416_automobile.png'),\n",
              " PosixPath('cifar/train/9975_ship.png'),\n",
              " PosixPath('cifar/train/39581_truck.png'),\n",
              " PosixPath('cifar/train/47482_deer.png'),\n",
              " PosixPath('cifar/train/44514_horse.png'),\n",
              " PosixPath('cifar/train/49794_horse.png'),\n",
              " PosixPath('cifar/train/37821_bird.png'),\n",
              " PosixPath('cifar/train/18392_truck.png'),\n",
              " PosixPath('cifar/train/1684_airplane.png'),\n",
              " PosixPath('cifar/train/28102_horse.png'),\n",
              " PosixPath('cifar/train/4472_cat.png'),\n",
              " PosixPath('cifar/train/4762_automobile.png'),\n",
              " PosixPath('cifar/train/11157_truck.png'),\n",
              " PosixPath('cifar/train/44435_dog.png'),\n",
              " PosixPath('cifar/train/45645_deer.png'),\n",
              " PosixPath('cifar/train/5008_cat.png'),\n",
              " PosixPath('cifar/train/35153_horse.png'),\n",
              " PosixPath('cifar/train/27653_dog.png'),\n",
              " PosixPath('cifar/train/14890_automobile.png'),\n",
              " PosixPath('cifar/train/8297_airplane.png'),\n",
              " PosixPath('cifar/train/16728_truck.png'),\n",
              " PosixPath('cifar/train/1846_cat.png'),\n",
              " PosixPath('cifar/train/47610_ship.png'),\n",
              " PosixPath('cifar/train/16013_cat.png'),\n",
              " PosixPath('cifar/train/44693_cat.png'),\n",
              " PosixPath('cifar/train/39763_airplane.png'),\n",
              " PosixPath('cifar/train/42733_truck.png'),\n",
              " PosixPath('cifar/train/632_deer.png'),\n",
              " PosixPath('cifar/train/32518_deer.png'),\n",
              " PosixPath('cifar/train/21166_airplane.png'),\n",
              " PosixPath('cifar/train/35578_ship.png'),\n",
              " PosixPath('cifar/train/1888_cat.png'),\n",
              " PosixPath('cifar/train/796_bird.png'),\n",
              " PosixPath('cifar/train/20585_deer.png'),\n",
              " PosixPath('cifar/train/31962_truck.png'),\n",
              " PosixPath('cifar/train/15252_truck.png'),\n",
              " PosixPath('cifar/train/9866_ship.png'),\n",
              " PosixPath('cifar/train/36290_frog.png'),\n",
              " PosixPath('cifar/train/3409_truck.png'),\n",
              " PosixPath('cifar/train/25844_frog.png'),\n",
              " PosixPath('cifar/train/41687_dog.png'),\n",
              " PosixPath('cifar/train/17752_automobile.png'),\n",
              " PosixPath('cifar/train/39032_ship.png'),\n",
              " PosixPath('cifar/train/7240_truck.png'),\n",
              " PosixPath('cifar/train/45852_bird.png'),\n",
              " PosixPath('cifar/train/30371_bird.png'),\n",
              " PosixPath('cifar/train/9003_truck.png'),\n",
              " PosixPath('cifar/train/27433_cat.png'),\n",
              " PosixPath('cifar/train/27576_automobile.png'),\n",
              " PosixPath('cifar/train/8465_horse.png'),\n",
              " PosixPath('cifar/train/49747_frog.png'),\n",
              " PosixPath('cifar/train/11035_bird.png'),\n",
              " PosixPath('cifar/train/47259_ship.png'),\n",
              " PosixPath('cifar/train/16540_dog.png'),\n",
              " PosixPath('cifar/train/18304_deer.png'),\n",
              " PosixPath('cifar/train/48628_bird.png'),\n",
              " PosixPath('cifar/train/49032_cat.png'),\n",
              " PosixPath('cifar/train/2874_frog.png'),\n",
              " PosixPath('cifar/train/39787_ship.png'),\n",
              " ...]"
            ]
          },
          "metadata": {
            "tags": []
          },
          "execution_count": 11
        }
      ]
    },
    {
      "cell_type": "code",
      "metadata": {
        "id": "_dZ-pcZRqSvA",
        "colab_type": "code",
        "colab": {}
      },
      "source": [
        "bs=256"
      ],
      "execution_count": 0,
      "outputs": []
    },
    {
      "cell_type": "code",
      "metadata": {
        "id": "sXgN_ateqSvC",
        "colab_type": "code",
        "colab": {}
      },
      "source": [
        "data = ImageDataBunch.from_name_re(path_img, fnames, pat, ds_tfms=get_transforms(), size=32, bs=bs\n",
        "                                  ).normalize()"
      ],
      "execution_count": 0,
      "outputs": []
    },
    {
      "cell_type": "code",
      "metadata": {
        "id": "xfTbKtKOqSvE",
        "colab_type": "code",
        "colab": {
          "base_uri": "https://localhost:8080/",
          "height": 441
        },
        "outputId": "fa25988b-483d-4af3-8f3d-549b05c1429c"
      },
      "source": [
        "data.show_batch(rows=3, figsize=(7,6))\n"
      ],
      "execution_count": 49,
      "outputs": [
        {
          "output_type": "display_data",
          "data": {
            "image/png": "[encoded data removed]",
            "text/plain": [
              "<Figure size 504x432 with 9 Axes>"
            ]
          },
          "metadata": {
            "tags": []
          }
        }
      ]
    },
    {
      "cell_type": "code",
      "metadata": {
        "id": "DcjX9tIvqSvH",
        "colab_type": "code",
        "colab": {}
      },
      "source": [
        "lr = 1e-2"
      ],
      "execution_count": 0,
      "outputs": []
    },
    {
      "cell_type": "code",
      "metadata": {
        "id": "zo5Dm4RAqSvJ",
        "colab_type": "code",
        "colab": {}
      },
      "source": [
        "class SimpleNet(nn.Module):\n",
        "    def __init__(self, layers):\n",
        "        super().__init__()\n",
        "        self.layers = nn.ModuleList([\n",
        "            nn.Linear(layers[i], layers[i + 1]) for i in range(len(layers) - 1)])\n",
        "        \n",
        "    def forward(self, x):\n",
        "        x = x.view(x.size(0), -1)\n",
        "        for l in self.layers:\n",
        "            l_x = l(x)\n",
        "            x = F.relu(l_x)\n",
        "        return l_x"
      ],
      "execution_count": 0,
      "outputs": []
    },
    {
      "cell_type": "code",
      "metadata": {
        "id": "nsxf1c9iqSvL",
        "colab_type": "code",
        "colab": {}
      },
      "source": [
        "#def conv(ni,nf): return nn.Conv2d(ni, nf, kernel_size=3, stride=2, padding=1)\n",
        "#model = nn.Sequential(\n",
        "#    conv(3, 8), # 14\n",
        "#    nn.BatchNorm2d(8),\n",
        "#    nn.ReLU(),\n",
        "#    conv(8, 16), # 7\n",
        "#    nn.BatchNorm2d(16),\n",
        "#    nn.ReLU(),\n",
        "#    conv(16, 32), # 4\n",
        "#    nn.BatchNorm2d(32),\n",
        "#    nn.ReLU(),\n",
        "#    conv(32, 16), # 2\n",
        "#    nn.BatchNorm2d(16),\n",
        "#    nn.ReLU(),\n",
        "#    conv(16, 10), # 1\n",
        "#    nn.BatchNorm2d(10),\n",
        "#    Flatten()     # remove (1,1) grid\n",
        "#)"
      ],
      "execution_count": 0,
      "outputs": []
    },
    {
      "cell_type": "code",
      "metadata": {
        "id": "bEyLYVBHqSvO",
        "colab_type": "code",
        "colab": {}
      },
      "source": [
        "model = SimpleNet([32*32*3,40,10])\n",
        "learn = Learner(data, model, loss_func = nn.CrossEntropyLoss(), metrics=accuracy)"
      ],
      "execution_count": 0,
      "outputs": []
    },
    {
      "cell_type": "code",
      "metadata": {
        "id": "ZCIgpeZEqSvU",
        "colab_type": "code",
        "colab": {
          "base_uri": "https://localhost:8080/",
          "height": 306
        },
        "outputId": "bfdd5c7e-6206-427f-df7b-4d4ba109ebcf"
      },
      "source": [
        "learn.summary()"
      ],
      "execution_count": 53,
      "outputs": [
        {
          "output_type": "execute_result",
          "data": {
            "text/plain": [
              "SimpleNet\n",
              "======================================================================\n",
              "Layer (type)         Output Shape         Param #    Trainable \n",
              "======================================================================\n",
              "Linear               [40]                 122,920    True      \n",
              "______________________________________________________________________\n",
              "Linear               [10]                 410        True      \n",
              "______________________________________________________________________\n",
              "\n",
              "Total params: 123,330\n",
              "Total trainable params: 123,330\n",
              "Total non-trainable params: 0\n",
              "Optimized with 'torch.optim.adam.Adam', betas=(0.9, 0.99)\n",
              "Using true weight decay as discussed in https://www.fast.ai/2018/07/02/adam-weight-decay/ \n",
              "Loss function : CrossEntropyLoss\n",
              "======================================================================\n",
              "Callbacks functions applied "
            ]
          },
          "metadata": {
            "tags": []
          },
          "execution_count": 53
        }
      ]
    },
    {
      "cell_type": "code",
      "metadata": {
        "id": "WMu9yrJNqSvV",
        "colab_type": "code",
        "colab": {
          "base_uri": "https://localhost:8080/",
          "height": 34
        },
        "outputId": "f7b63417-bb83-41cf-9563-67b38a973ed0"
      },
      "source": [
        "learn.lr_find()"
      ],
      "execution_count": 54,
      "outputs": [
        {
          "output_type": "display_data",
          "data": {
            "text/html": [
              ""
            ],
            "text/plain": [
              "<IPython.core.display.HTML object>"
            ]
          },
          "metadata": {
            "tags": []
          }
        },
        {
          "output_type": "stream",
          "text": [
            "LR Finder is complete, type {learner_name}.recorder.plot() to see the graph.\n"
          ],
          "name": "stdout"
        }
      ]
    },
    {
      "cell_type": "code",
      "metadata": {
        "id": "SFOdmTmYqSvY",
        "colab_type": "code",
        "colab": {
          "base_uri": "https://localhost:8080/",
          "height": 283
        },
        "outputId": "c516f6a6-0894-4f85-8134-1fed6081f567"
      },
      "source": [
        "learn.recorder.plot()\n"
      ],
      "execution_count": 55,
      "outputs": [
        {
          "output_type": "display_data",
          "data": {
            "image/png": "[encoded data removed]",
            "text/plain": [
              "<Figure size 432x288 with 1 Axes>"
            ]
          },
          "metadata": {
            "tags": []
          }
        }
      ]
    },
    {
      "cell_type": "code",
      "metadata": {
        "id": "uLmsKC2gqSva",
        "colab_type": "code",
        "colab": {
          "base_uri": "https://localhost:8080/",
          "height": 111
        },
        "outputId": "0f936179-3093-4b88-c27e-8853b9d39ca3"
      },
      "source": [
        "learn.fit_one_cycle(2,max_lr = 5e-03)"
      ],
      "execution_count": 56,
      "outputs": [
        {
          "output_type": "display_data",
          "data": {
            "text/html": [
              "<table border=\"1\" class=\"dataframe\">\n",
              "  <thead>\n",
              "    <tr style=\"text-align: left;\">\n",
              "      <th>epoch</th>\n",
              "      <th>train_loss</th>\n",
              "      <th>valid_loss</th>\n",
              "      <th>accuracy</th>\n",
              "      <th>time</th>\n",
              "    </tr>\n",
              "  </thead>\n",
              "  <tbody>\n",
              "    <tr>\n",
              "      <td>0</td>\n",
              "      <td>1.789021</td>\n",
              "      <td>1.676875</td>\n",
              "      <td>0.418400</td>\n",
              "      <td>01:07</td>\n",
              "    </tr>\n",
              "    <tr>\n",
              "      <td>1</td>\n",
              "      <td>1.593406</td>\n",
              "      <td>1.533336</td>\n",
              "      <td>0.463200</td>\n",
              "      <td>01:06</td>\n",
              "    </tr>\n",
              "  </tbody>\n",
              "</table>"
            ],
            "text/plain": [
              "<IPython.core.display.HTML object>"
            ]
          },
          "metadata": {
            "tags": []
          }
        }
      ]
    },
    {
      "cell_type": "code",
      "metadata": {
        "id": "j28Je-loqSvc",
        "colab_type": "code",
        "colab": {
          "base_uri": "https://localhost:8080/",
          "height": 111
        },
        "outputId": "d75c0762-ca1e-428d-feee-a7c01044c773"
      },
      "source": [
        "learn.fit_one_cycle(2,max_lr = 1e-04)"
      ],
      "execution_count": 57,
      "outputs": [
        {
          "output_type": "display_data",
          "data": {
            "text/html": [
              "<table border=\"1\" class=\"dataframe\">\n",
              "  <thead>\n",
              "    <tr style=\"text-align: left;\">\n",
              "      <th>epoch</th>\n",
              "      <th>train_loss</th>\n",
              "      <th>valid_loss</th>\n",
              "      <th>accuracy</th>\n",
              "      <th>time</th>\n",
              "    </tr>\n",
              "  </thead>\n",
              "  <tbody>\n",
              "    <tr>\n",
              "      <td>0</td>\n",
              "      <td>1.538302</td>\n",
              "      <td>1.524333</td>\n",
              "      <td>0.465200</td>\n",
              "      <td>01:06</td>\n",
              "    </tr>\n",
              "    <tr>\n",
              "      <td>1</td>\n",
              "      <td>1.540443</td>\n",
              "      <td>1.520935</td>\n",
              "      <td>0.466400</td>\n",
              "      <td>01:06</td>\n",
              "    </tr>\n",
              "  </tbody>\n",
              "</table>"
            ],
            "text/plain": [
              "<IPython.core.display.HTML object>"
            ]
          },
          "metadata": {
            "tags": []
          }
        }
      ]
    },
    {
      "cell_type": "code",
      "metadata": {
        "id": "G8zpkF0wqSve",
        "colab_type": "code",
        "colab": {}
      },
      "source": [
        "class ConvNet(nn.Module):\n",
        "    def __init__(self, layers, c):\n",
        "        super().__init__()\n",
        "        self.layers = nn.ModuleList([\n",
        "            nn.Conv2d(layers[i], layers[i + 1], kernel_size=3, stride=2)\n",
        "            for i in range(len(layers) - 1)])\n",
        "        self.pool = nn.AdaptiveMaxPool2d(1)\n",
        "        self.out = nn.Linear(layers[-1], c)\n",
        "        \n",
        "    def forward(self, x):\n",
        "        for l in self.layers: x = F.relu(l(x))\n",
        "        x = self.pool(x)\n",
        "        x = x.view(x.size(0), -1)\n",
        "        return self.out(x)"
      ],
      "execution_count": 0,
      "outputs": []
    },
    {
      "cell_type": "code",
      "metadata": {
        "id": "mge3OxehqSvf",
        "colab_type": "code",
        "colab": {}
      },
      "source": [
        "model = ConvNet([3,20,40,80],10)\n",
        "learn = Learner(data, model, loss_func = nn.CrossEntropyLoss(), metrics=accuracy)"
      ],
      "execution_count": 0,
      "outputs": []
    },
    {
      "cell_type": "code",
      "metadata": {
        "id": "4pRXtJOiqSvj",
        "colab_type": "code",
        "colab": {
          "base_uri": "https://localhost:8080/",
          "height": 408
        },
        "outputId": "87f4a3cb-4173-4830-b78c-2ec8f289f099"
      },
      "source": [
        "learn.summary()"
      ],
      "execution_count": 60,
      "outputs": [
        {
          "output_type": "execute_result",
          "data": {
            "text/plain": [
              "ConvNet\n",
              "======================================================================\n",
              "Layer (type)         Output Shape         Param #    Trainable \n",
              "======================================================================\n",
              "Conv2d               [20, 15, 15]         560        True      \n",
              "______________________________________________________________________\n",
              "Conv2d               [40, 7, 7]           7,240      True      \n",
              "______________________________________________________________________\n",
              "Conv2d               [80, 3, 3]           28,880     True      \n",
              "______________________________________________________________________\n",
              "AdaptiveMaxPool2d    [80, 1, 1]           0          False     \n",
              "______________________________________________________________________\n",
              "Linear               [10]                 810        True      \n",
              "______________________________________________________________________\n",
              "\n",
              "Total params: 37,490\n",
              "Total trainable params: 37,490\n",
              "Total non-trainable params: 0\n",
              "Optimized with 'torch.optim.adam.Adam', betas=(0.9, 0.99)\n",
              "Using true weight decay as discussed in https://www.fast.ai/2018/07/02/adam-weight-decay/ \n",
              "Loss function : CrossEntropyLoss\n",
              "======================================================================\n",
              "Callbacks functions applied "
            ]
          },
          "metadata": {
            "tags": []
          },
          "execution_count": 60
        }
      ]
    },
    {
      "cell_type": "code",
      "metadata": {
        "id": "0xwzASJLqSvm",
        "colab_type": "code",
        "colab": {
          "base_uri": "https://localhost:8080/",
          "height": 34
        },
        "outputId": "a0c2e6c0-4f5d-4843-f09f-887ea3cebcbe"
      },
      "source": [
        "learn.lr_find()"
      ],
      "execution_count": 61,
      "outputs": [
        {
          "output_type": "display_data",
          "data": {
            "text/html": [
              ""
            ],
            "text/plain": [
              "<IPython.core.display.HTML object>"
            ]
          },
          "metadata": {
            "tags": []
          }
        },
        {
          "output_type": "stream",
          "text": [
            "LR Finder is complete, type {learner_name}.recorder.plot() to see the graph.\n"
          ],
          "name": "stdout"
        }
      ]
    },
    {
      "cell_type": "code",
      "metadata": {
        "id": "VktFumgSqSvp",
        "colab_type": "code",
        "colab": {
          "base_uri": "https://localhost:8080/",
          "height": 283
        },
        "outputId": "f4075b3e-13e0-4c12-d5e9-6a65ce0418f6"
      },
      "source": [
        "learn.recorder.plot()"
      ],
      "execution_count": 62,
      "outputs": [
        {
          "output_type": "display_data",
          "data": {
            "image/png": "[encoded data removed]",
            "text/plain": [
              "<Figure size 432x288 with 1 Axes>"
            ]
          },
          "metadata": {
            "tags": []
          }
        }
      ]
    },
    {
      "cell_type": "code",
      "metadata": {
        "id": "JmaQUCVKqSvr",
        "colab_type": "code",
        "colab": {
          "base_uri": "https://localhost:8080/",
          "height": 111
        },
        "outputId": "bb872be2-54eb-4eaa-bb59-c9d3b6c7dee6"
      },
      "source": [
        "learn.fit_one_cycle(2,max_lr = 1e-02)"
      ],
      "execution_count": 63,
      "outputs": [
        {
          "output_type": "display_data",
          "data": {
            "text/html": [
              "<table border=\"1\" class=\"dataframe\">\n",
              "  <thead>\n",
              "    <tr style=\"text-align: left;\">\n",
              "      <th>epoch</th>\n",
              "      <th>train_loss</th>\n",
              "      <th>valid_loss</th>\n",
              "      <th>accuracy</th>\n",
              "      <th>time</th>\n",
              "    </tr>\n",
              "  </thead>\n",
              "  <tbody>\n",
              "    <tr>\n",
              "      <td>0</td>\n",
              "      <td>1.745054</td>\n",
              "      <td>1.593045</td>\n",
              "      <td>0.416500</td>\n",
              "      <td>01:07</td>\n",
              "    </tr>\n",
              "    <tr>\n",
              "      <td>1</td>\n",
              "      <td>1.475238</td>\n",
              "      <td>1.419021</td>\n",
              "      <td>0.481700</td>\n",
              "      <td>01:06</td>\n",
              "    </tr>\n",
              "  </tbody>\n",
              "</table>"
            ],
            "text/plain": [
              "<IPython.core.display.HTML object>"
            ]
          },
          "metadata": {
            "tags": []
          }
        }
      ]
    },
    {
      "cell_type": "code",
      "metadata": {
        "id": "MTlDwhEfqSvu",
        "colab_type": "code",
        "colab": {
          "base_uri": "https://localhost:8080/",
          "height": 173
        },
        "outputId": "de94844f-1135-43f1-d154-f6e663fde80f"
      },
      "source": [
        "learn.fit_one_cycle(4,max_lr = 1e-02)"
      ],
      "execution_count": 64,
      "outputs": [
        {
          "output_type": "display_data",
          "data": {
            "text/html": [
              "<table border=\"1\" class=\"dataframe\">\n",
              "  <thead>\n",
              "    <tr style=\"text-align: left;\">\n",
              "      <th>epoch</th>\n",
              "      <th>train_loss</th>\n",
              "      <th>valid_loss</th>\n",
              "      <th>accuracy</th>\n",
              "      <th>time</th>\n",
              "    </tr>\n",
              "  </thead>\n",
              "  <tbody>\n",
              "    <tr>\n",
              "      <td>0</td>\n",
              "      <td>1.462269</td>\n",
              "      <td>1.436350</td>\n",
              "      <td>0.481100</td>\n",
              "      <td>01:06</td>\n",
              "    </tr>\n",
              "    <tr>\n",
              "      <td>1</td>\n",
              "      <td>1.423502</td>\n",
              "      <td>1.335543</td>\n",
              "      <td>0.517000</td>\n",
              "      <td>01:06</td>\n",
              "    </tr>\n",
              "    <tr>\n",
              "      <td>2</td>\n",
              "      <td>1.291016</td>\n",
              "      <td>1.236802</td>\n",
              "      <td>0.554000</td>\n",
              "      <td>01:06</td>\n",
              "    </tr>\n",
              "    <tr>\n",
              "      <td>3</td>\n",
              "      <td>1.209305</td>\n",
              "      <td>1.202216</td>\n",
              "      <td>0.567400</td>\n",
              "      <td>01:06</td>\n",
              "    </tr>\n",
              "  </tbody>\n",
              "</table>"
            ],
            "text/plain": [
              "<IPython.core.display.HTML object>"
            ]
          },
          "metadata": {
            "tags": []
          }
        }
      ]
    },
    {
      "cell_type": "markdown",
      "metadata": {
        "id": "DChKU-IQqSvy",
        "colab_type": "text"
      },
      "source": [
        "# Refactored\n"
      ]
    },
    {
      "cell_type": "code",
      "metadata": {
        "id": "tWqmorjTqSvy",
        "colab_type": "code",
        "colab": {}
      },
      "source": [
        "class ConvLayer(nn.Module):\n",
        "    def __init__(self, ni, nf):\n",
        "        super().__init__()\n",
        "        self.conv = nn.Conv2d(ni, nf, kernel_size=3, stride=2, padding=1)\n",
        "        \n",
        "    def forward(self, x): return F.relu(self.conv(x))"
      ],
      "execution_count": 0,
      "outputs": []
    },
    {
      "cell_type": "code",
      "metadata": {
        "id": "_m0b5kilqSv0",
        "colab_type": "code",
        "colab": {}
      },
      "source": [
        "class ConvNet2(nn.Module):\n",
        "    def __init__(self, layers, c):\n",
        "        super().__init__()\n",
        "        self.layers = nn.ModuleList([ConvLayer(layers[i], layers[i + 1])\n",
        "            for i in range(len(layers) - 1)])\n",
        "        self.out = nn.Linear(layers[-1], c)\n",
        "        \n",
        "    def forward(self, x):\n",
        "        for l in self.layers: x = l(x)\n",
        "        x = F.adaptive_max_pool2d(x, 1)\n",
        "        x = x.view(x.size(0), -1)\n",
        "        return self.out(x)"
      ],
      "execution_count": 0,
      "outputs": []
    },
    {
      "cell_type": "code",
      "metadata": {
        "id": "Z7v4vj8lqSv2",
        "colab_type": "code",
        "colab": {}
      },
      "source": [
        "model = ConvNet2([3,20,40,80],10)\n",
        "learn = Learner(data, model, loss_func = nn.CrossEntropyLoss(), metrics=accuracy)"
      ],
      "execution_count": 0,
      "outputs": []
    },
    {
      "cell_type": "code",
      "metadata": {
        "id": "ibu56UxkqSv4",
        "colab_type": "code",
        "colab": {
          "base_uri": "https://localhost:8080/",
          "height": 374
        },
        "outputId": "1cd2fb1b-bbab-4915-c775-ecfa2ce8957a"
      },
      "source": [
        "learn.summary()"
      ],
      "execution_count": 68,
      "outputs": [
        {
          "output_type": "execute_result",
          "data": {
            "text/plain": [
              "ConvNet2\n",
              "======================================================================\n",
              "Layer (type)         Output Shape         Param #    Trainable \n",
              "======================================================================\n",
              "Conv2d               [20, 16, 16]         560        True      \n",
              "______________________________________________________________________\n",
              "Conv2d               [40, 8, 8]           7,240      True      \n",
              "______________________________________________________________________\n",
              "Conv2d               [80, 4, 4]           28,880     True      \n",
              "______________________________________________________________________\n",
              "Linear               [10]                 810        True      \n",
              "______________________________________________________________________\n",
              "\n",
              "Total params: 37,490\n",
              "Total trainable params: 37,490\n",
              "Total non-trainable params: 0\n",
              "Optimized with 'torch.optim.adam.Adam', betas=(0.9, 0.99)\n",
              "Using true weight decay as discussed in https://www.fast.ai/2018/07/02/adam-weight-decay/ \n",
              "Loss function : CrossEntropyLoss\n",
              "======================================================================\n",
              "Callbacks functions applied "
            ]
          },
          "metadata": {
            "tags": []
          },
          "execution_count": 68
        }
      ]
    },
    {
      "cell_type": "code",
      "metadata": {
        "id": "k5uwaOCWqSv6",
        "colab_type": "code",
        "colab": {
          "base_uri": "https://localhost:8080/",
          "height": 111
        },
        "outputId": "5d64a289-2d12-4d48-b304-175ca248e699"
      },
      "source": [
        "learn.fit_one_cycle(2,max_lr = 1e-02)"
      ],
      "execution_count": 69,
      "outputs": [
        {
          "output_type": "display_data",
          "data": {
            "text/html": [
              "<table border=\"1\" class=\"dataframe\">\n",
              "  <thead>\n",
              "    <tr style=\"text-align: left;\">\n",
              "      <th>epoch</th>\n",
              "      <th>train_loss</th>\n",
              "      <th>valid_loss</th>\n",
              "      <th>accuracy</th>\n",
              "      <th>time</th>\n",
              "    </tr>\n",
              "  </thead>\n",
              "  <tbody>\n",
              "    <tr>\n",
              "      <td>0</td>\n",
              "      <td>1.732502</td>\n",
              "      <td>1.638947</td>\n",
              "      <td>0.402900</td>\n",
              "      <td>01:06</td>\n",
              "    </tr>\n",
              "    <tr>\n",
              "      <td>1</td>\n",
              "      <td>1.449430</td>\n",
              "      <td>1.395810</td>\n",
              "      <td>0.499500</td>\n",
              "      <td>01:06</td>\n",
              "    </tr>\n",
              "  </tbody>\n",
              "</table>"
            ],
            "text/plain": [
              "<IPython.core.display.HTML object>"
            ]
          },
          "metadata": {
            "tags": []
          }
        }
      ]
    },
    {
      "cell_type": "code",
      "metadata": {
        "id": "WO7zdXzAqSv-",
        "colab_type": "code",
        "colab": {
          "base_uri": "https://localhost:8080/",
          "height": 173
        },
        "outputId": "2b2e8010-9442-49cf-9b12-5b6dcaa351e4"
      },
      "source": [
        "learn.fit_one_cycle(4,max_lr = 1e-02)"
      ],
      "execution_count": 70,
      "outputs": [
        {
          "output_type": "display_data",
          "data": {
            "text/html": [
              "<table border=\"1\" class=\"dataframe\">\n",
              "  <thead>\n",
              "    <tr style=\"text-align: left;\">\n",
              "      <th>epoch</th>\n",
              "      <th>train_loss</th>\n",
              "      <th>valid_loss</th>\n",
              "      <th>accuracy</th>\n",
              "      <th>time</th>\n",
              "    </tr>\n",
              "  </thead>\n",
              "  <tbody>\n",
              "    <tr>\n",
              "      <td>0</td>\n",
              "      <td>1.449880</td>\n",
              "      <td>1.475205</td>\n",
              "      <td>0.463800</td>\n",
              "      <td>01:06</td>\n",
              "    </tr>\n",
              "    <tr>\n",
              "      <td>1</td>\n",
              "      <td>1.398908</td>\n",
              "      <td>1.344050</td>\n",
              "      <td>0.513500</td>\n",
              "      <td>01:06</td>\n",
              "    </tr>\n",
              "    <tr>\n",
              "      <td>2</td>\n",
              "      <td>1.278704</td>\n",
              "      <td>1.284111</td>\n",
              "      <td>0.545600</td>\n",
              "      <td>01:06</td>\n",
              "    </tr>\n",
              "    <tr>\n",
              "      <td>3</td>\n",
              "      <td>1.178610</td>\n",
              "      <td>1.172812</td>\n",
              "      <td>0.583200</td>\n",
              "      <td>01:06</td>\n",
              "    </tr>\n",
              "  </tbody>\n",
              "</table>"
            ],
            "text/plain": [
              "<IPython.core.display.HTML object>"
            ]
          },
          "metadata": {
            "tags": []
          }
        }
      ]
    },
    {
      "cell_type": "code",
      "metadata": {
        "id": "4tNzTkakqSwA",
        "colab_type": "code",
        "colab": {}
      },
      "source": [
        "class BnLayer(nn.Module):\n",
        "    def __init__(self, ni, nf, stride=2, kernel_size=3):\n",
        "        super().__init__()\n",
        "        self.conv = nn.Conv2d(ni, nf, kernel_size=kernel_size, stride=stride,\n",
        "                              bias=False, padding=1)\n",
        "        self.a = nn.Parameter(torch.zeros(nf,1,1))\n",
        "        self.m = nn.Parameter(torch.ones(nf,1,1))\n",
        "        \n",
        "    def forward(self, x):\n",
        "        x = F.relu(self.conv(x))\n",
        "        x_chan = x.transpose(0,1).contiguous().view(x.size(1), -1)\n",
        "        if self.training:\n",
        "            self.means = x_chan.mean(1)[:,None,None]\n",
        "            self.stds  = x_chan.std (1)[:,None,None]\n",
        "        return (x-self.means) / self.stds *self.m + self.a"
      ],
      "execution_count": 0,
      "outputs": []
    },
    {
      "cell_type": "code",
      "metadata": {
        "id": "AfwPcWB6qSwC",
        "colab_type": "code",
        "colab": {}
      },
      "source": [
        "\n",
        "class ConvBnNet(nn.Module):\n",
        "    def __init__(self, layers, c):\n",
        "        super().__init__()\n",
        "        self.conv1 = nn.Conv2d(3, 10, kernel_size=5, stride=1, padding=2)\n",
        "        self.layers = nn.ModuleList([BnLayer(layers[i], layers[i + 1])\n",
        "            for i in range(len(layers) - 1)])\n",
        "        self.out = nn.Linear(layers[-1], c)\n",
        "        \n",
        "    def forward(self, x):\n",
        "        x = self.conv1(x)\n",
        "        for l in self.layers: x = l(x)\n",
        "        x = F.adaptive_max_pool2d(x, 1)\n",
        "        x = x.view(x.size(0), -1)\n",
        "        return self.out(x)"
      ],
      "execution_count": 0,
      "outputs": []
    },
    {
      "cell_type": "code",
      "metadata": {
        "id": "ih132z0gqSwE",
        "colab_type": "code",
        "colab": {}
      },
      "source": [
        "model = ConvBnNet([10,20,40,80,160],10)\n",
        "learn = Learner(data, model, loss_func = nn.CrossEntropyLoss(), metrics=accuracy)"
      ],
      "execution_count": 0,
      "outputs": []
    },
    {
      "cell_type": "code",
      "metadata": {
        "id": "uh3dnKjJqSwH",
        "colab_type": "code",
        "colab": {
          "base_uri": "https://localhost:8080/",
          "height": 111
        },
        "outputId": "ad8398b1-d1c9-4d52-c5e2-34b2329e429c"
      },
      "source": [
        "learn.fit_one_cycle(2,max_lr = 1e-02)"
      ],
      "execution_count": 74,
      "outputs": [
        {
          "output_type": "display_data",
          "data": {
            "text/html": [
              "<table border=\"1\" class=\"dataframe\">\n",
              "  <thead>\n",
              "    <tr style=\"text-align: left;\">\n",
              "      <th>epoch</th>\n",
              "      <th>train_loss</th>\n",
              "      <th>valid_loss</th>\n",
              "      <th>accuracy</th>\n",
              "      <th>time</th>\n",
              "    </tr>\n",
              "  </thead>\n",
              "  <tbody>\n",
              "    <tr>\n",
              "      <td>0</td>\n",
              "      <td>1.466699</td>\n",
              "      <td>1.310829</td>\n",
              "      <td>0.526800</td>\n",
              "      <td>01:08</td>\n",
              "    </tr>\n",
              "    <tr>\n",
              "      <td>1</td>\n",
              "      <td>1.137227</td>\n",
              "      <td>1.071621</td>\n",
              "      <td>0.618200</td>\n",
              "      <td>01:08</td>\n",
              "    </tr>\n",
              "  </tbody>\n",
              "</table>"
            ],
            "text/plain": [
              "<IPython.core.display.HTML object>"
            ]
          },
          "metadata": {
            "tags": []
          }
        }
      ]
    },
    {
      "cell_type": "code",
      "metadata": {
        "id": "gPjGjW1gqSwJ",
        "colab_type": "code",
        "colab": {
          "base_uri": "https://localhost:8080/",
          "height": 173
        },
        "outputId": "6c787a81-f542-410c-ef75-38a9369c7af1"
      },
      "source": [
        "learn.fit_one_cycle(4,max_lr = 1e-02)"
      ],
      "execution_count": 75,
      "outputs": [
        {
          "output_type": "display_data",
          "data": {
            "text/html": [
              "<table border=\"1\" class=\"dataframe\">\n",
              "  <thead>\n",
              "    <tr style=\"text-align: left;\">\n",
              "      <th>epoch</th>\n",
              "      <th>train_loss</th>\n",
              "      <th>valid_loss</th>\n",
              "      <th>accuracy</th>\n",
              "      <th>time</th>\n",
              "    </tr>\n",
              "  </thead>\n",
              "  <tbody>\n",
              "    <tr>\n",
              "      <td>0</td>\n",
              "      <td>1.173742</td>\n",
              "      <td>1.156947</td>\n",
              "      <td>0.591200</td>\n",
              "      <td>01:07</td>\n",
              "    </tr>\n",
              "    <tr>\n",
              "      <td>1</td>\n",
              "      <td>1.070739</td>\n",
              "      <td>1.045763</td>\n",
              "      <td>0.639500</td>\n",
              "      <td>01:08</td>\n",
              "    </tr>\n",
              "    <tr>\n",
              "      <td>2</td>\n",
              "      <td>0.904849</td>\n",
              "      <td>0.889216</td>\n",
              "      <td>0.698100</td>\n",
              "      <td>01:08</td>\n",
              "    </tr>\n",
              "    <tr>\n",
              "      <td>3</td>\n",
              "      <td>0.789235</td>\n",
              "      <td>0.821875</td>\n",
              "      <td>0.718700</td>\n",
              "      <td>01:08</td>\n",
              "    </tr>\n",
              "  </tbody>\n",
              "</table>"
            ],
            "text/plain": [
              "<IPython.core.display.HTML object>"
            ]
          },
          "metadata": {
            "tags": []
          }
        }
      ]
    },
    {
      "cell_type": "code",
      "metadata": {
        "id": "2SBeyuv3qSwL",
        "colab_type": "code",
        "colab": {}
      },
      "source": [
        "class ConvBnNet2(nn.Module):\n",
        "    def __init__(self, layers, c):\n",
        "        super().__init__()\n",
        "        self.conv1 = nn.Conv2d(3, 10, kernel_size=5, stride=1, padding=2)\n",
        "        self.layers = nn.ModuleList([BnLayer(layers[i], layers[i+1])\n",
        "            for i in range(len(layers) - 1)])\n",
        "        self.layers2 = nn.ModuleList([BnLayer(layers[i+1], layers[i + 1], 1)\n",
        "            for i in range(len(layers) - 1)])\n",
        "        self.out = nn.Linear(layers[-1], c)\n",
        "        \n",
        "    def forward(self, x):\n",
        "        x = self.conv1(x)\n",
        "        for l,l2 in zip(self.layers, self.layers2):\n",
        "            x = l(x)\n",
        "            x = l2(x)\n",
        "        x = F.adaptive_max_pool2d(x, 1)\n",
        "        x = x.view(x.size(0), -1)\n",
        "        return self.out(x)"
      ],
      "execution_count": 0,
      "outputs": []
    },
    {
      "cell_type": "code",
      "metadata": {
        "id": "lNbOMjvQqSwN",
        "colab_type": "code",
        "colab": {}
      },
      "source": [
        "model = ConvBnNet2([10,20,40,80,160],10)\n",
        "learn = Learner(data, model, loss_func = nn.CrossEntropyLoss(), metrics=accuracy)"
      ],
      "execution_count": 0,
      "outputs": []
    },
    {
      "cell_type": "code",
      "metadata": {
        "id": "-hcIxGGwqSwU",
        "colab_type": "code",
        "colab": {
          "base_uri": "https://localhost:8080/",
          "height": 111
        },
        "outputId": "12315be0-3d53-404d-99fa-7f78d6f7d74a"
      },
      "source": [
        "learn.fit_one_cycle(2,max_lr = 1e-02)"
      ],
      "execution_count": 78,
      "outputs": [
        {
          "output_type": "display_data",
          "data": {
            "text/html": [
              "<table border=\"1\" class=\"dataframe\">\n",
              "  <thead>\n",
              "    <tr style=\"text-align: left;\">\n",
              "      <th>epoch</th>\n",
              "      <th>train_loss</th>\n",
              "      <th>valid_loss</th>\n",
              "      <th>accuracy</th>\n",
              "      <th>time</th>\n",
              "    </tr>\n",
              "  </thead>\n",
              "  <tbody>\n",
              "    <tr>\n",
              "      <td>0</td>\n",
              "      <td>1.527538</td>\n",
              "      <td>1.396829</td>\n",
              "      <td>0.494100</td>\n",
              "      <td>01:09</td>\n",
              "    </tr>\n",
              "    <tr>\n",
              "      <td>1</td>\n",
              "      <td>1.144797</td>\n",
              "      <td>1.044662</td>\n",
              "      <td>0.632000</td>\n",
              "      <td>01:09</td>\n",
              "    </tr>\n",
              "  </tbody>\n",
              "</table>"
            ],
            "text/plain": [
              "<IPython.core.display.HTML object>"
            ]
          },
          "metadata": {
            "tags": []
          }
        }
      ]
    },
    {
      "cell_type": "code",
      "metadata": {
        "id": "5T-tN171qSwW",
        "colab_type": "code",
        "colab": {
          "base_uri": "https://localhost:8080/",
          "height": 173
        },
        "outputId": "c74ea30f-da26-4607-9d6b-a4f5aed538e7"
      },
      "source": [
        "learn.fit_one_cycle(4,max_lr = 1e-02)"
      ],
      "execution_count": 79,
      "outputs": [
        {
          "output_type": "display_data",
          "data": {
            "text/html": [
              "<table border=\"1\" class=\"dataframe\">\n",
              "  <thead>\n",
              "    <tr style=\"text-align: left;\">\n",
              "      <th>epoch</th>\n",
              "      <th>train_loss</th>\n",
              "      <th>valid_loss</th>\n",
              "      <th>accuracy</th>\n",
              "      <th>time</th>\n",
              "    </tr>\n",
              "  </thead>\n",
              "  <tbody>\n",
              "    <tr>\n",
              "      <td>0</td>\n",
              "      <td>1.175606</td>\n",
              "      <td>1.169500</td>\n",
              "      <td>0.590300</td>\n",
              "      <td>01:09</td>\n",
              "    </tr>\n",
              "    <tr>\n",
              "      <td>1</td>\n",
              "      <td>1.033791</td>\n",
              "      <td>0.888126</td>\n",
              "      <td>0.695400</td>\n",
              "      <td>01:09</td>\n",
              "    </tr>\n",
              "    <tr>\n",
              "      <td>2</td>\n",
              "      <td>0.840851</td>\n",
              "      <td>0.809696</td>\n",
              "      <td>0.717700</td>\n",
              "      <td>01:09</td>\n",
              "    </tr>\n",
              "    <tr>\n",
              "      <td>3</td>\n",
              "      <td>0.692253</td>\n",
              "      <td>0.723214</td>\n",
              "      <td>0.745300</td>\n",
              "      <td>01:09</td>\n",
              "    </tr>\n",
              "  </tbody>\n",
              "</table>"
            ],
            "text/plain": [
              "<IPython.core.display.HTML object>"
            ]
          },
          "metadata": {
            "tags": []
          }
        }
      ]
    },
    {
      "cell_type": "markdown",
      "metadata": {
        "id": "rbbFwBdgqSwZ",
        "colab_type": "text"
      },
      "source": [
        "# Resnet"
      ]
    },
    {
      "cell_type": "code",
      "metadata": {
        "id": "JIAFFc89qSwa",
        "colab_type": "code",
        "colab": {}
      },
      "source": [
        "class ResnetLayer(BnLayer):\n",
        "    def forward(self, x): return x + super().forward(x)"
      ],
      "execution_count": 0,
      "outputs": []
    },
    {
      "cell_type": "code",
      "metadata": {
        "id": "H7wP8tcHqSwf",
        "colab_type": "code",
        "colab": {}
      },
      "source": [
        "class Resnet(nn.Module):\n",
        "    def __init__(self, layers, c, p=0.5):\n",
        "        super().__init__()\n",
        "        self.conv1 = BnLayer(3, 16, stride=1, kernel_size=7)\n",
        "        self.layers = nn.ModuleList([BnLayer(layers[i], layers[i+1])\n",
        "            for i in range(len(layers) - 1)])\n",
        "        self.layers2 = nn.ModuleList([ResnetLayer(layers[i+1], layers[i + 1], 1)\n",
        "            for i in range(len(layers) - 1)])\n",
        "        self.layers3 = nn.ModuleList([ResnetLayer(layers[i+1], layers[i + 1], 1)\n",
        "            for i in range(len(layers) - 1)])\n",
        "        self.out = nn.Linear(layers[-1], c)\n",
        "        self.drop = nn.Dropout(p)\n",
        "        \n",
        "    def forward(self, x):\n",
        "        x = self.conv1(x)\n",
        "        for l,l2,l3 in zip(self.layers, self.layers2, self.layers3):\n",
        "            x = l3(l2(l(x)))\n",
        "        x = F.adaptive_max_pool2d(x, 1)\n",
        "        x = x.view(x.size(0), -1)\n",
        "        x = self.drop(x)\n",
        "        return self.out(x)"
      ],
      "execution_count": 0,
      "outputs": []
    },
    {
      "cell_type": "code",
      "metadata": {
        "id": "_gqxKOnWqSwh",
        "colab_type": "code",
        "colab": {}
      },
      "source": [
        "model = Resnet([16,32,64,128,256],10,0.2)\n",
        "learn = Learner(data, model, loss_func = nn.CrossEntropyLoss(), metrics=accuracy)"
      ],
      "execution_count": 0,
      "outputs": []
    },
    {
      "cell_type": "code",
      "metadata": {
        "id": "KOnO9KP9qSwl",
        "colab_type": "code",
        "colab": {
          "base_uri": "https://localhost:8080/",
          "height": 34
        },
        "outputId": "020f56c6-066d-4c05-f744-d23ce16f5fbd"
      },
      "source": [
        "learn.lr_find()"
      ],
      "execution_count": 83,
      "outputs": [
        {
          "output_type": "display_data",
          "data": {
            "text/html": [
              ""
            ],
            "text/plain": [
              "<IPython.core.display.HTML object>"
            ]
          },
          "metadata": {
            "tags": []
          }
        },
        {
          "output_type": "stream",
          "text": [
            "LR Finder is complete, type {learner_name}.recorder.plot() to see the graph.\n"
          ],
          "name": "stdout"
        }
      ]
    },
    {
      "cell_type": "code",
      "metadata": {
        "id": "ojEcIeesqSwn",
        "colab_type": "code",
        "colab": {
          "base_uri": "https://localhost:8080/",
          "height": 283
        },
        "outputId": "19948c84-c10b-4b51-a339-fedaf07c0052"
      },
      "source": [
        "learn.recorder.plot()"
      ],
      "execution_count": 84,
      "outputs": [
        {
          "output_type": "display_data",
          "data": {
            "image/png": "[encoded data removed]",
            "text/plain": [
              "<Figure size 432x288 with 1 Axes>"
            ]
          },
          "metadata": {
            "tags": []
          }
        }
      ]
    },
    {
      "cell_type": "code",
      "metadata": {
        "id": "bM05APJ1qSwp",
        "colab_type": "code",
        "colab": {
          "base_uri": "https://localhost:8080/",
          "height": 359
        },
        "outputId": "c9771044-64b4-40eb-a32a-a65f9cf60350"
      },
      "source": [
        "learn.fit_one_cycle(10,max_lr = 1e-02)"
      ],
      "execution_count": 85,
      "outputs": [
        {
          "output_type": "display_data",
          "data": {
            "text/html": [
              "<table border=\"1\" class=\"dataframe\">\n",
              "  <thead>\n",
              "    <tr style=\"text-align: left;\">\n",
              "      <th>epoch</th>\n",
              "      <th>train_loss</th>\n",
              "      <th>valid_loss</th>\n",
              "      <th>accuracy</th>\n",
              "      <th>time</th>\n",
              "    </tr>\n",
              "  </thead>\n",
              "  <tbody>\n",
              "    <tr>\n",
              "      <td>0</td>\n",
              "      <td>1.779473</td>\n",
              "      <td>1.477279</td>\n",
              "      <td>0.468800</td>\n",
              "      <td>01:12</td>\n",
              "    </tr>\n",
              "    <tr>\n",
              "      <td>1</td>\n",
              "      <td>1.508280</td>\n",
              "      <td>1.454830</td>\n",
              "      <td>0.486600</td>\n",
              "      <td>01:12</td>\n",
              "    </tr>\n",
              "    <tr>\n",
              "      <td>2</td>\n",
              "      <td>1.303647</td>\n",
              "      <td>1.245166</td>\n",
              "      <td>0.572700</td>\n",
              "      <td>01:12</td>\n",
              "    </tr>\n",
              "    <tr>\n",
              "      <td>3</td>\n",
              "      <td>1.135495</td>\n",
              "      <td>0.969861</td>\n",
              "      <td>0.660100</td>\n",
              "      <td>01:12</td>\n",
              "    </tr>\n",
              "    <tr>\n",
              "      <td>4</td>\n",
              "      <td>0.994132</td>\n",
              "      <td>0.884694</td>\n",
              "      <td>0.696900</td>\n",
              "      <td>01:12</td>\n",
              "    </tr>\n",
              "    <tr>\n",
              "      <td>5</td>\n",
              "      <td>0.872205</td>\n",
              "      <td>0.801588</td>\n",
              "      <td>0.725100</td>\n",
              "      <td>01:12</td>\n",
              "    </tr>\n",
              "    <tr>\n",
              "      <td>6</td>\n",
              "      <td>0.766135</td>\n",
              "      <td>0.748282</td>\n",
              "      <td>0.744900</td>\n",
              "      <td>01:12</td>\n",
              "    </tr>\n",
              "    <tr>\n",
              "      <td>7</td>\n",
              "      <td>0.653859</td>\n",
              "      <td>0.644678</td>\n",
              "      <td>0.773100</td>\n",
              "      <td>01:13</td>\n",
              "    </tr>\n",
              "    <tr>\n",
              "      <td>8</td>\n",
              "      <td>0.578636</td>\n",
              "      <td>0.628734</td>\n",
              "      <td>0.777400</td>\n",
              "      <td>01:13</td>\n",
              "    </tr>\n",
              "    <tr>\n",
              "      <td>9</td>\n",
              "      <td>0.535426</td>\n",
              "      <td>0.599000</td>\n",
              "      <td>0.789700</td>\n",
              "      <td>01:13</td>\n",
              "    </tr>\n",
              "  </tbody>\n",
              "</table>"
            ],
            "text/plain": [
              "<IPython.core.display.HTML object>"
            ]
          },
          "metadata": {
            "tags": []
          }
        }
      ]
    },
    {
      "cell_type": "code",
      "metadata": {
        "id": "vrGR1g2FqSwr",
        "colab_type": "code",
        "colab": {
          "base_uri": "https://localhost:8080/",
          "height": 173
        },
        "outputId": "13b12412-a015-4e1d-ce1c-c6fc95309694"
      },
      "source": [
        "learn.fit_one_cycle(4,max_lr = 5e-04)"
      ],
      "execution_count": 86,
      "outputs": [
        {
          "output_type": "display_data",
          "data": {
            "text/html": [
              "<table border=\"1\" class=\"dataframe\">\n",
              "  <thead>\n",
              "    <tr style=\"text-align: left;\">\n",
              "      <th>epoch</th>\n",
              "      <th>train_loss</th>\n",
              "      <th>valid_loss</th>\n",
              "      <th>accuracy</th>\n",
              "      <th>time</th>\n",
              "    </tr>\n",
              "  </thead>\n",
              "  <tbody>\n",
              "    <tr>\n",
              "      <td>0</td>\n",
              "      <td>0.529523</td>\n",
              "      <td>0.601031</td>\n",
              "      <td>0.791100</td>\n",
              "      <td>01:13</td>\n",
              "    </tr>\n",
              "    <tr>\n",
              "      <td>1</td>\n",
              "      <td>0.528209</td>\n",
              "      <td>0.602944</td>\n",
              "      <td>0.791900</td>\n",
              "      <td>01:13</td>\n",
              "    </tr>\n",
              "    <tr>\n",
              "      <td>2</td>\n",
              "      <td>0.509355</td>\n",
              "      <td>0.595157</td>\n",
              "      <td>0.797800</td>\n",
              "      <td>01:13</td>\n",
              "    </tr>\n",
              "    <tr>\n",
              "      <td>3</td>\n",
              "      <td>0.496275</td>\n",
              "      <td>0.592824</td>\n",
              "      <td>0.798600</td>\n",
              "      <td>01:13</td>\n",
              "    </tr>\n",
              "  </tbody>\n",
              "</table>"
            ],
            "text/plain": [
              "<IPython.core.display.HTML object>"
            ]
          },
          "metadata": {
            "tags": []
          }
        }
      ]
    },
    {
      "cell_type": "code",
      "metadata": {
        "id": "wMQ-g9zvqSwu",
        "colab_type": "code",
        "colab": {}
      },
      "source": [
        ""
      ],
      "execution_count": 0,
      "outputs": []
    }
  ]
}